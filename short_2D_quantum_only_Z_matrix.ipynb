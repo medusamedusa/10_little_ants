{
 "cells": [
  {
   "cell_type": "code",
   "execution_count": 1,
   "metadata": {},
   "outputs": [],
   "source": [
    "from qiskit import QuantumRegister, ClassicalRegister, QuantumCircuit, Aer, transpile\n",
    "import numpy as np\n",
    "from qiskit.visualization import plot_histogram\n",
    "from qiskit import *\n",
    "import random\n",
    "import matplotlib.pyplot as plt\n",
    "from operator import attrgetter\n",
    "import matplotlib.pyplot as plt\n",
    "import heapq\n",
    "from operator import itemgetter\n",
    "from pydub import AudioSegment # for audio\n",
    "from pydub.playback import play # for audio"
   ]
  },
  {
   "cell_type": "code",
   "execution_count": 2,
   "metadata": {},
   "outputs": [],
   "source": [
    "# Target & reward ------------------------------------------------------------------------"
   ]
  },
  {
   "cell_type": "code",
   "execution_count": 3,
   "metadata": {},
   "outputs": [],
   "source": [
    "class Target:\n",
    "    def __init__(self,name,x,y): # no indetermination in the target's position\n",
    "        self.name = name\n",
    "        self.x = x\n",
    "        self.y = y"
   ]
  },
  {
   "cell_type": "code",
   "execution_count": 4,
   "metadata": {},
   "outputs": [],
   "source": [
    "T = Target(\"T\", 0.9, 0.5) # deep in the ocean\n",
    "\n",
    "# for getting back to the beginning\n",
    "T2 = Target(\"T2\", 0.2, 0.5) # back to the ship"
   ]
  },
  {
   "cell_type": "code",
   "execution_count": 5,
   "metadata": {},
   "outputs": [],
   "source": [
    "def reward(T, betax, betay):\n",
    "    return 1 - ((T.x - betax)**2 + (T.y - betay)**2)**0.5\n",
    "    # the closer the target, the less the distance, the higher the reward\n",
    "    "
   ]
  },
  {
   "cell_type": "code",
   "execution_count": 6,
   "metadata": {},
   "outputs": [],
   "source": [
    "# Obstacles ----------------------------------------------------------------------------"
   ]
  },
  {
   "cell_type": "code",
   "execution_count": 7,
   "metadata": {},
   "outputs": [],
   "source": [
    "class Obstacle: # Just a point for now\n",
    "    def __init__(self,name,x,y):\n",
    "        self.name = name\n",
    "        self.x = x\n",
    "        self.y = y"
   ]
  },
  {
   "cell_type": "code",
   "execution_count": 8,
   "metadata": {},
   "outputs": [],
   "source": [
    "O = Obstacle(\"Oo\", 0.8, 0.2) # deep in the ocean"
   ]
  },
  {
   "cell_type": "code",
   "execution_count": 9,
   "metadata": {},
   "outputs": [],
   "source": [
    "# Robots -------------------------------------------------------------------------------"
   ]
  },
  {
   "cell_type": "code",
   "execution_count": 10,
   "metadata": {},
   "outputs": [],
   "source": [
    "class Robotx(object):\n",
    "    _registry = []\n",
    "    \n",
    "    # June 11, 2022: introducing individual matrices as an attribute of each robot\n",
    "\n",
    "    def __init__(self, name, alphax, betax, alphay, betay, gamma, delta, position, matrix): \n",
    "        self._registry.append(self)\n",
    "        self.name = name\n",
    "        self.alphax = alphax\n",
    "        self.betax = betax\n",
    "        self.alphay = alphay\n",
    "        self.betay = betay\n",
    "        delta = reward(T, betax, betay)\n",
    "        gamma = 1 - delta\n",
    "        self.gamma = gamma\n",
    "        self.delta = delta\n",
    "        self.position = position # new -- I need it for sound\n",
    "        self.matrix = matrix"
   ]
  },
  {
   "cell_type": "code",
   "execution_count": 11,
   "metadata": {},
   "outputs": [],
   "source": [
    "# arbitrary number of robots that, at the start, are uniformly distributed in the square of side length radius*2,\n",
    "# centered in starting_cluster_coord\n",
    "#\n",
    "num_of_robots = 3 # 10\n",
    "radius = 0.1\n",
    "starting_cluster_coord = (0.2, 0.5)\n",
    "\n",
    "a_x, a_y = 1-starting_cluster_coord[0]-radius, 1-starting_cluster_coord[0]+radius\n",
    "b_x, b_y = 1-starting_cluster_coord[1]-radius, 1-starting_cluster_coord[1]+radius\n",
    "\n",
    "for i in range(num_of_robots):\n",
    "    x = random.uniform(a_x,a_y)\n",
    "    y = random.uniform(b_x,b_y)\n",
    "    Robotx('R'+str(i), x, 1-x, y, 1-y, 1 - reward(T, 1-x, 1-y), reward(T, 1-x, 1-y), i+1, None) # I'm adding 'position'"
   ]
  },
  {
   "cell_type": "code",
   "execution_count": 12,
   "metadata": {},
   "outputs": [
    {
     "name": "stdout",
     "output_type": "stream",
     "text": [
      "R0 0.28 0.52 0.62 0.38 1 None\n",
      "R1 0.24 0.43 0.67 0.33 2 None\n",
      "R2 0.22 0.55 0.68 0.32 3 None\n"
     ]
    }
   ],
   "source": [
    "# note: values are stored with full precision, rounding is done only on visualization (with :.2f)\n",
    "\n",
    "for k in Robotx._registry:\n",
    "    print(f\"{k.name} {k.betax:.2f} {k.betay:.2f} {k.gamma:.2f} {k.delta:.2f} {k.position} {None}\")"
   ]
  },
  {
   "cell_type": "code",
   "execution_count": 13,
   "metadata": {},
   "outputs": [
    {
     "name": "stdout",
     "output_type": "stream",
     "text": [
      "R0 0.38\n",
      "R1 0.33\n",
      "R2 0.32\n"
     ]
    }
   ],
   "source": [
    "for k in Robotx._registry:\n",
    "    print(f\"{k.name} {k.delta:.2f}\")"
   ]
  },
  {
   "cell_type": "code",
   "execution_count": 14,
   "metadata": {},
   "outputs": [
    {
     "data": {
      "image/png": "[encoded data removed]",
      "text/plain": [
       "<Figure size 432x288 with 1 Axes>"
      ]
     },
     "metadata": {
      "needs_background": "light"
     },
     "output_type": "display_data"
    }
   ],
   "source": [
    "def plot_scatterplot():\n",
    "    for i in  Robotx._registry:\n",
    "        plt.scatter(i.betax, i.betay, s = 400, marker = 'o', color = 'black')\n",
    "        \n",
    "    plt.scatter(T.x, T.y, s = 400, marker = '*', color = 'turquoise')\n",
    "    plt.scatter(O.x, O.y, s = 400, marker = 'p', color = 'red')\n",
    "\n",
    "    plt.axis([0, 1, 0, 1])\n",
    "\n",
    "    plt.show() \n",
    "\n",
    "plot_scatterplot()"
   ]
  },
  {
   "cell_type": "markdown",
   "metadata": {},
   "source": [
    "# initialization of sound parameters\n",
    "\n",
    "\n",
    "# we need 'append' to create such a list!\n",
    "\n",
    "l = []\n",
    "for x in range(11):\n",
    "    value = AudioSegment.from_file(\"notes_/tC.mp3\")\n",
    "    l.append(value)\n",
    "for i in range(11):\n",
    "    print(l[i])\n",
    "    \n",
    "for k in Robotx._registry:\n",
    "    print(k.position)\n",
    "    \n",
    "for k in Robotx._registry:\n",
    "    print(l[k.position])"
   ]
  },
  {
   "cell_type": "markdown",
   "metadata": {},
   "source": [
    "# audio block #1\n",
    "\n",
    "# audio 1\n",
    "\n",
    "# we can define \"audio\" as an attribute... no, better not.\n",
    "\n",
    "audio = []\n",
    "\n",
    "for x in range(11): # it should be between 1 and 11 \n",
    "    valuex = AudioSegment.from_file(\"notes_/tC.mp3\")\n",
    "    audio.append(valuex)\n",
    "for i in range(11):\n",
    "    print(audio[i]) # at this stage, they are supposed to all give tC.mp3\n",
    "\n",
    "for i in Robotx._registry:\n",
    "    if (i.betax == 0):\n",
    "        if (i.betay == 0.5):\n",
    "            valuex = AudioSegment.from_file(\"notes_/tC.mp3\") # i.audio\n",
    "            audio.append(valuex)\n",
    "            print(\"tC\")\n",
    "    if (i.betax > 0 and i.betax <= 0.17):\n",
    "        if (i.betay < 0.5):\n",
    "            valuex = AudioSegment.from_file(\"notes_/tB.mp3\")\n",
    "            audio.append(valuex)\n",
    "            print(\"tB\")\n",
    "        if (i.betay >= 0.5):\n",
    "            valuex = AudioSegment.from_file(\"notes_/tC#.mp3\")\n",
    "            audio.append(valuex)\n",
    "            print(\"tC#\")\n",
    "    if (i.betax > 0.17 and i.betax <= 0.3):\n",
    "        if (i.betay < 0.5): # if (R1.betay >= 0.17 and R1.betay < 0.3):\n",
    "            valuex = AudioSegment.from_file(\"notes_/tA#.mp3\")\n",
    "            audio.append(valuex)\n",
    "            print(\"tA#\")\n",
    "        if (i.betay >= 0.5):\n",
    "            valuex = AudioSegment.from_file(\"notes_/tD.mp3\")\n",
    "            audio.append(valuex)\n",
    "            print(\"tD\")\n",
    "    if (i.betax > 0.3 and i.betax <= 0.5):\n",
    "        if (i.betay < 0.5): # (R1.betay == 1):\n",
    "            valuex = AudioSegment.from_file(\"notes_/tD#.mp3\")\n",
    "            audio.append(valuex)\n",
    "            print(\"tD#\")\n",
    "        if (i.betay >= 0.5):\n",
    "            valuex = AudioSegment.from_file(\"notes_/tA.mp3\")\n",
    "            audio.append(valuex)\n",
    "            print(\"tA\")\n",
    "    if (i.betax > 0.5 and i.betax <= 0.64):\n",
    "        if (i.betay < 0.5):\n",
    "            valuex = AudioSegment.from_file(\"notes_/tE.mp3\")\n",
    "            audio.append(valuex)\n",
    "            print(\"tE\")\n",
    "        if (i.betay >= 0.5):\n",
    "            valuex = AudioSegment.from_file(\"notes_/tG#.mp3\")\n",
    "            audio.append(valuex)\n",
    "            print(\"tG#\")\n",
    "    if (i.betax > 0.64 and i.betax <= 0.84):\n",
    "        if (i.betay < 0.5):\n",
    "            valuex = AudioSegment.from_file(\"notes_/tF.mp3\")\n",
    "            audio.append(valuex)\n",
    "            print(\"tF\")\n",
    "        if (i.betay >= 0.5):\n",
    "            valuex = AudioSegment.from_file(\"notes_/tG.mp3\")\n",
    "            audio.append(valuex)\n",
    "            print(\"tG\")\n",
    "    if (i.betax > 0.84 and i.betax <= 1):\n",
    "        #if (R1.betay == 0.5):\n",
    "        valuex = AudioSegment.from_file(\"notes_/tF#.mp3\")\n",
    "        audio.append(valuex)\n",
    "        print(\"tF#\")\n",
    "        \n",
    "        \n",
    "        \n",
    "for i in Robotx._registry:\n",
    "    print(audio[i.position]) # at this stage, they are supposed to all give tC.mp3\n",
    "    \n",
    "\n",
    "    \n",
    "\n",
    "mix = []\n",
    "\n",
    "for s in range(11): # it should be between 1 and 11 \n",
    "    #values = (audio[s].overlay(audio[s+1])).overlay(audio[s+3])\n",
    "    \n",
    "    # is there a more synthetic way to write this??\n",
    "    values = audio[s].overlay(audio[s+1])\n",
    "    values2 = values.overlay(audio[s+2])\n",
    "    values3 = values2.overlay(audio[s+3])\n",
    "    values4 = values3.overlay(audio[s+4])\n",
    "    values5 = values4.overlay(audio[s+5])\n",
    "    values6 = values5.overlay(audio[s+6])\n",
    "    values7 = values6.overlay(audio[s+7])\n",
    "    values8 = values7.overlay(audio[s+8])\n",
    "    values9 = values8.overlay(audio[s+9])\n",
    "    mix.append(values9)\n",
    "    print(mix[s])\n",
    "\n",
    "mix[10].export(\"notes_/10_robot_sound/mixed_time_1.mp3\", format='mp3') # export mixed  audio file\n",
    "play(mix[10]) \n"
   ]
  },
  {
   "cell_type": "code",
   "execution_count": 15,
   "metadata": {},
   "outputs": [
    {
     "name": "stdout",
     "output_type": "stream",
     "text": [
      "R0 0.38 achtung!\n",
      "R1 0.33 achtung!\n",
      "R2 0.32 achtung!\n"
     ]
    }
   ],
   "source": [
    "for r in Robotx._registry:\n",
    "    if (r.delta < 0.5):\n",
    "        print(f\"{r.name} {r.delta:.2f} achtung!\") # and start from this point to build the reshuffle section"
   ]
  },
  {
   "cell_type": "code",
   "execution_count": null,
   "metadata": {},
   "outputs": [],
   "source": []
  },
  {
   "cell_type": "code",
   "execution_count": null,
   "metadata": {},
   "outputs": [],
   "source": []
  },
  {
   "cell_type": "code",
   "execution_count": 16,
   "metadata": {},
   "outputs": [
    {
     "name": "stdout",
     "output_type": "stream",
     "text": [
      "   1   2\n",
      "   0   1\n",
      "\n",
      "\n",
      "   0   0\n",
      "   0   0\n",
      "\n",
      "\n",
      "   1   2   0   0\n",
      "   0   1   0   0\n",
      "   1   0   0   0\n",
      "   0   1   0   0\n"
     ]
    }
   ],
   "source": [
    "WholeMatrix = []\n",
    "\n",
    "smallMatrix1 = np.array([[1, 2], [0, 1]])\n",
    "smallMatrix2 = np.array([[1, 0], [0, 1]])\n",
    "smallMatrix3 = np.array([[0, 0], [0, 0]])\n",
    "smallMatrix4 = np.array([[0, 0], [0, 0]])\n",
    "\n",
    "NullMatrix = np.array([[0, 0, 0, 0], [0, 0, 0, 0], [0, 0, 0, 0], [0, 0, 0, 0]])\n",
    "\n",
    "print('\\n'.join([''.join(['{:4}'.format(item) for item in row])\n",
    "                 for row in smallMatrix1]))\n",
    "\n",
    "print('\\n')\n",
    "print('\\n'.join([''.join(['{:4}'.format(item) for item in row])\n",
    "                 for row in smallMatrix4]))\n",
    "print('\\n')\n",
    "\n",
    "WholeMatrix = np.block([[smallMatrix1, smallMatrix3], [smallMatrix2, smallMatrix4]])\n",
    "\n",
    "# matrixDiag = []\n",
    "# matrixDiag = [[1, 2], [3, 4]]\n",
    "# print(matrixDiag)\n",
    "\n",
    "# print(WholeMatrix)\n",
    "\n",
    "print('\\n'.join([''.join(['{:4}'.format(item) for item in row])\n",
    "                 for row in WholeMatrix]))"
   ]
  },
  {
   "cell_type": "code",
   "execution_count": 17,
   "metadata": {},
   "outputs": [
    {
     "name": "stdout",
     "output_type": "stream",
     "text": [
      "[[0, 0, 0, 0], [0, 0, 0, 0], [0, 0, 0, 0], [0, 0, 0, 0]]\n"
     ]
    },
    {
     "data": {
      "text/plain": [
       "[0, 0, 0, 0]"
      ]
     },
     "execution_count": 17,
     "metadata": {},
     "output_type": "execute_result"
    }
   ],
   "source": [
    "\n",
    "w, h = 4, 4\n",
    "matrixRobot = [[0 for x in range(w)] for y in range(h)]\n",
    "\n",
    "print(matrixRobot)\n",
    "\n",
    "matrixRobot[3]"
   ]
  },
  {
   "cell_type": "code",
   "execution_count": 18,
   "metadata": {},
   "outputs": [
    {
     "name": "stdout",
     "output_type": "stream",
     "text": [
      "submatrix relative to R0\n",
      "index:  0\n",
      "\n",
      "\n",
      "0.3 1   0   0.4 \n",
      "0.5 1   0   0.5 \n",
      "0   0   0   0   \n",
      "on  on  normal0   \n",
      "\n",
      "\n",
      "submatrix relative to R1\n",
      "index:  1\n",
      "\n",
      "\n",
      "0.2 1   0   0.3 \n",
      "0.4 1   0   0.5 \n",
      "0   0   0   0   \n",
      "on  on  normal0   \n",
      "\n",
      "\n",
      "submatrix relative to R2\n",
      "index:  2\n",
      "\n",
      "\n",
      "0.2 1   0   0.3 \n",
      "0.5 1   0   0.5 \n",
      "0   0   0   0   \n",
      "on  on  normal0   \n",
      "gulp\n",
      "\n",
      "\n"
     ]
    }
   ],
   "source": [
    "# WE MAKE THIS before the reshuffling\n",
    "\n",
    "for Ri in Robotx._registry:\n",
    "    print(\"submatrix relative to\", Ri.name) # CORRECT \"Ri_matrix\" # Ri.position\n",
    "    print(\"index: \", Ri.position - 1)\n",
    "    speed = 1 # we are considering a constant speed for now, for all robots, along all directions, except zeta\n",
    "    acceleration = 0 # same as above\n",
    "    # the zeta component is not here: there are zeros in correspondence of z information\n",
    "    # we suppose constant charge use\n",
    "    charge = 0.5\n",
    "\n",
    "    Ri.matrix = np.array([[round(Ri.betax, 1), speed, acceleration, round(Ri.delta, 1)], [round(Ri.betay, 1), speed, acceleration, charge],[0, 0, 0, 0], [\"on\", \"on\", \"normal\", 0]])\n",
    "    print('\\n')\n",
    "    \n",
    "    #print(Ri.matrix)\n",
    "    \n",
    "    print('\\n'.join([''.join(['{:4}'.format(item) for item in row])\n",
    "                 for row in Ri.matrix]))\n",
    "    \n",
    "    # print(\"index check:\", Ri.position)\n",
    "    # create a label\n",
    "    if (Ri.position == 1):\n",
    "        #print(\"bla\")\n",
    "        R1_matrix = Ri.matrix\n",
    "    if (Ri.position == 2):\n",
    "        #print(\"blu\")\n",
    "        R2_matrix = Ri.matrix\n",
    "    if (Ri.position == 3):\n",
    "        print(\"gulp\")\n",
    "        R3_matrix = Ri.matrix\n",
    "        \n",
    "    print('\\n')\n",
    "\n",
    "#print(R1_matrix)\n",
    "#print(R2_matrix)\n",
    "#print(R3_matrix)\n",
    "#print(NullMatrix)\n",
    "\n"
   ]
  },
  {
   "cell_type": "code",
   "execution_count": 19,
   "metadata": {},
   "outputs": [],
   "source": [
    "# with only the diagonal blocks, the whole matrix is a block-diagonal matrix:"
   ]
  },
  {
   "cell_type": "code",
   "execution_count": 20,
   "metadata": {},
   "outputs": [],
   "source": [
    "#print(R1_matrix, '\\n', R2_matrix, R3_matrix)"
   ]
  },
  {
   "cell_type": "code",
   "execution_count": 21,
   "metadata": {},
   "outputs": [
    {
     "name": "stdout",
     "output_type": "stream",
     "text": [
      "0.3     1       0       0.4     0       0       0       0       0       0       0       0       \n",
      "0.5     1       0       0.5     0       0       0       0       0       0       0       0       \n",
      "0       0       0       0       0       0       0       0       0       0       0       0       \n",
      "on      on      normal  0       0       0       0       0       0       0       0       0       \n",
      "0       0       0       0       0.2     1       0       0.3     0       0       0       0       \n",
      "0       0       0       0       0.4     1       0       0.5     0       0       0       0       \n",
      "0       0       0       0       0       0       0       0       0       0       0       0       \n",
      "0       0       0       0       on      on      normal  0       0       0       0       0       \n",
      "0       0       0       0       0       0       0       0       0.2     1       0       0.3     \n",
      "0       0       0       0       0       0       0       0       0.5     1       0       0.5     \n",
      "0       0       0       0       0       0       0       0       0       0       0       0       \n",
      "0       0       0       0       0       0       0       0       on      on      normal  0       \n"
     ]
    }
   ],
   "source": [
    "WholeMatrixRobot = np.block([[R1_matrix, NullMatrix, NullMatrix], [NullMatrix, R2_matrix, NullMatrix], [NullMatrix, NullMatrix, R3_matrix]])\n",
    "\n",
    "print('\\n'.join([''.join(['{:8}'.format(item) for item in row])\n",
    "                 for row in WholeMatrixRobot]))"
   ]
  },
  {
   "cell_type": "code",
   "execution_count": 22,
   "metadata": {},
   "outputs": [],
   "source": [
    "# Reshuffling ----------------------------------------------------------------------------"
   ]
  },
  {
   "cell_type": "code",
   "execution_count": 23,
   "metadata": {},
   "outputs": [
    {
     "name": "stdout",
     "output_type": "stream",
     "text": [
      "Do all the robots have a reward lower than 0.8? : True\n"
     ]
    }
   ],
   "source": [
    "# I'm adding this one as the only non-quantum thing:\n",
    "\n",
    "result = all(i.delta < 0.8 for i in Robotx._registry)\n",
    "  \n",
    "# Printing result\n",
    "print(\"Do all the robots have a reward lower than 0.8? : \" + str(result))\n",
    "\n",
    "# if True: reshuffle positions\n",
    "# if False: do nothing\n",
    "\n",
    "if result == True:\n",
    "    flag = True\n",
    "    while flag:\n",
    "        flag = False\n",
    "        for i in Robotx._registry:\n",
    "            i.alphax = np.random.uniform(0,0.9)\n",
    "            i.betax = 1 - i.alphax\n",
    "            i.alphay = np.random.uniform(0,0.9)\n",
    "            i.betay = 1 - i.alphay\n",
    "            if (i.betax - O.x <= 0.2 and i.betay - O.y <= 0.2 <= 0.2):\n",
    "                flag = True"
   ]
  },
  {
   "cell_type": "code",
   "execution_count": 24,
   "metadata": {},
   "outputs": [
    {
     "name": "stdout",
     "output_type": "stream",
     "text": [
      "R0 0.26 0.51 0.62 1\n",
      "R1 0.35 0.55 0.67 2\n",
      "R2 0.47 0.87 0.68 3\n"
     ]
    }
   ],
   "source": [
    "for k in Robotx._registry:\n",
    "    print(f\"{k.name} {k.betax:.2f} {k.betay:.2f} {k.gamma:.2f} {k.position}\")"
   ]
  },
  {
   "cell_type": "code",
   "execution_count": 25,
   "metadata": {},
   "outputs": [
    {
     "name": "stdout",
     "output_type": "stream",
     "text": [
      "R0 0.36\n",
      "R1 0.45\n",
      "R2 0.43\n"
     ]
    }
   ],
   "source": [
    "for i in  Robotx._registry: # recalculate the rewards\n",
    "    i.delta = reward(T, i.betax, i.betay)\n",
    "    i.gamma = 1 - i.delta\n",
    "    print(f\"{i.name} {i.delta:.2f}\")"
   ]
  },
  {
   "cell_type": "code",
   "execution_count": 26,
   "metadata": {},
   "outputs": [
    {
     "data": {
      "image/png": "[encoded data removed]",
      "text/plain": [
       "<Figure size 432x288 with 1 Axes>"
      ]
     },
     "metadata": {
      "needs_background": "light"
     },
     "output_type": "display_data"
    }
   ],
   "source": [
    "plot_scatterplot()"
   ]
  },
  {
   "cell_type": "code",
   "execution_count": 27,
   "metadata": {},
   "outputs": [],
   "source": [
    "# MATRIX after the reshuffling"
   ]
  },
  {
   "cell_type": "code",
   "execution_count": 30,
   "metadata": {},
   "outputs": [
    {
     "name": "stdout",
     "output_type": "stream",
     "text": [
      "submatrix relative to R0\n",
      "index:  0\n",
      "\n",
      "\n",
      "0.3 1   0   0.4 \n",
      "0.5 1   0   0.5 \n",
      "0   0   0   0   \n",
      "on  on  normal0   \n",
      "\n",
      "\n",
      "submatrix relative to R1\n",
      "index:  1\n",
      "\n",
      "\n",
      "0.4 1   0   0.5 \n",
      "0.5 1   0   0.5 \n",
      "0   0   0   0   \n",
      "on  on  normal0   \n",
      "\n",
      "\n",
      "submatrix relative to R2\n",
      "index:  2\n",
      "\n",
      "\n",
      "0.5 1   0   0.4 \n",
      "0.9 1   0   0.5 \n",
      "0   0   0   0   \n",
      "on  on  normal0   \n",
      "gulp\n",
      "\n",
      "\n"
     ]
    }
   ],
   "source": [
    "for Ri in Robotx._registry:\n",
    "    print(\"submatrix relative to\", Ri.name) # CORRECT \"Ri_matrix\" # Ri.position\n",
    "    print(\"index: \", Ri.position - 1)\n",
    "    speed = 1 # we are considering a constant speed for now, for all robots, along all directions, except zeta\n",
    "    acceleration = 0 # same as above\n",
    "    # the zeta component is not here: there are zeros in correspondence of z information\n",
    "    # we suppose constant charge use\n",
    "    charge = 0.5\n",
    "\n",
    "    Ri.matrix = np.array([[round(Ri.betax, 1), speed, acceleration, round(Ri.delta, 1)], [round(Ri.betay, 1), speed, acceleration, charge],[0, 0, 0, 0], [\"on\", \"on\", \"normal\", 0]])\n",
    "    print('\\n')\n",
    "    \n",
    "    #print(Ri.matrix)\n",
    "    \n",
    "    print('\\n'.join([''.join(['{:4}'.format(item) for item in row])\n",
    "                 for row in Ri.matrix]))\n",
    "    \n",
    "    # print(\"index check:\", Ri.position)\n",
    "    # create a label\n",
    "    if (Ri.position == 1):\n",
    "        #print(\"bla\")\n",
    "        R1_matrix = Ri.matrix\n",
    "    if (Ri.position == 2):\n",
    "        #print(\"blu\")\n",
    "        R2_matrix = Ri.matrix\n",
    "    if (Ri.position == 3):\n",
    "        print(\"gulp\")\n",
    "        R3_matrix = Ri.matrix\n",
    "        \n",
    "    print('\\n')\n",
    "\n",
    "#print(R1_matrix)\n",
    "#print(R2_matrix)\n",
    "#print(R3_matrix)\n",
    "#print(NullMatrix)"
   ]
  },
  {
   "cell_type": "code",
   "execution_count": 31,
   "metadata": {},
   "outputs": [
    {
     "name": "stdout",
     "output_type": "stream",
     "text": [
      "0.3     1       0       0.4     0       0       0       0       0       0       0       0       \n",
      "0.5     1       0       0.5     0       0       0       0       0       0       0       0       \n",
      "0       0       0       0       0       0       0       0       0       0       0       0       \n",
      "on      on      normal  0       0       0       0       0       0       0       0       0       \n",
      "0       0       0       0       0.4     1       0       0.5     0       0       0       0       \n",
      "0       0       0       0       0.5     1       0       0.5     0       0       0       0       \n",
      "0       0       0       0       0       0       0       0       0       0       0       0       \n",
      "0       0       0       0       on      on      normal  0       0       0       0       0       \n",
      "0       0       0       0       0       0       0       0       0.5     1       0       0.4     \n",
      "0       0       0       0       0       0       0       0       0.9     1       0       0.5     \n",
      "0       0       0       0       0       0       0       0       0       0       0       0       \n",
      "0       0       0       0       0       0       0       0       on      on      normal  0       \n"
     ]
    }
   ],
   "source": [
    "WholeMatrixRobot = np.block([[R1_matrix, NullMatrix, NullMatrix], [NullMatrix, R2_matrix, NullMatrix], [NullMatrix, NullMatrix, R3_matrix]])\n",
    "\n",
    "print('\\n'.join([''.join(['{:8}'.format(item) for item in row])\n",
    "                 for row in WholeMatrixRobot]))\n",
    "\n"
   ]
  },
  {
   "cell_type": "code",
   "execution_count": null,
   "metadata": {},
   "outputs": [],
   "source": []
  },
  {
   "cell_type": "code",
   "execution_count": null,
   "metadata": {},
   "outputs": [],
   "source": []
  },
  {
   "cell_type": "code",
   "execution_count": null,
   "metadata": {},
   "outputs": [],
   "source": []
  },
  {
   "cell_type": "markdown",
   "metadata": {},
   "source": [
    "# audio block #2\n",
    "\n",
    "\n",
    "# audio 2\n",
    "\n",
    "audio = []\n",
    "\n",
    "for x in range(11): # it should be between 1 and 11 \n",
    "    valuex = AudioSegment.from_file(\"notes_/tC.mp3\")\n",
    "    audio.append(valuex)\n",
    "for i in range(11):\n",
    "    print(audio[i]) # at this stage, they are supposed to all give tC.mp3\n",
    "\n",
    "for i in Robotx._registry:\n",
    "    if (i.betax == 0):\n",
    "        if (i.betay == 0.5):\n",
    "            valuex = AudioSegment.from_file(\"notes_/tC.mp3\") # i.audio\n",
    "            audio.append(valuex)\n",
    "            print(\"tC\")\n",
    "    if (i.betax > 0 and i.betax <= 0.17):\n",
    "        if (i.betay < 0.5):\n",
    "            valuex = AudioSegment.from_file(\"notes_/tB.mp3\")\n",
    "            audio.append(valuex)\n",
    "            print(\"tB\")\n",
    "        if (i.betay >= 0.5):\n",
    "            valuex = AudioSegment.from_file(\"notes_/tC#.mp3\")\n",
    "            audio.append(valuex)\n",
    "            print(\"tC#\")\n",
    "    if (i.betax > 0.17 and i.betax <= 0.3):\n",
    "        if (i.betay < 0.5): # if (R1.betay >= 0.17 and R1.betay < 0.3):\n",
    "            valuex = AudioSegment.from_file(\"notes_/tA#.mp3\")\n",
    "            audio.append(valuex)\n",
    "            print(\"tA#\")\n",
    "        if (i.betay >= 0.5):\n",
    "            valuex = AudioSegment.from_file(\"notes_/tD.mp3\")\n",
    "            audio.append(valuex)\n",
    "            print(\"tD\")\n",
    "    if (i.betax > 0.3 and i.betax <= 0.5):\n",
    "        if (i.betay < 0.5): # (R1.betay == 1):\n",
    "            valuex = AudioSegment.from_file(\"notes_/tD#.mp3\")\n",
    "            audio.append(valuex)\n",
    "            print(\"tD#\")\n",
    "        if (i.betay >= 0.5):\n",
    "            valuex = AudioSegment.from_file(\"notes_/tA.mp3\")\n",
    "            audio.append(valuex)\n",
    "            print(\"tA\")\n",
    "    if (i.betax > 0.5 and i.betax <= 0.64):\n",
    "        if (i.betay < 0.5):\n",
    "            valuex = AudioSegment.from_file(\"notes_/tE.mp3\")\n",
    "            audio.append(valuex)\n",
    "            print(\"tE\")\n",
    "        if (i.betay >= 0.5):\n",
    "            valuex = AudioSegment.from_file(\"notes_/tG#.mp3\")\n",
    "            audio.append(valuex)\n",
    "            print(\"tG#\")\n",
    "    if (i.betax > 0.64 and i.betax <= 0.84):\n",
    "        if (i.betay < 0.5):\n",
    "            valuex = AudioSegment.from_file(\"notes_/tF.mp3\")\n",
    "            audio.append(valuex)\n",
    "            print(\"tF\")\n",
    "        if (i.betay >= 0.5):\n",
    "            valuex = AudioSegment.from_file(\"notes_/tG.mp3\")\n",
    "            audio.append(valuex)\n",
    "            print(\"tG\")\n",
    "    if (i.betax > 0.84 and i.betax <= 1):\n",
    "        #if (R1.betay == 0.5):\n",
    "        valuex = AudioSegment.from_file(\"notes_/tF#.mp3\")\n",
    "        audio.append(valuex)\n",
    "        print(\"tF#\")\n",
    "        \n",
    "        \n",
    "        \n",
    "for i in Robotx._registry:\n",
    "    print(audio[i.position]) # at this stage, they are supposed to all give tC.mp3\n",
    "    \n",
    "\n",
    "    \n",
    "\n",
    "mix = []\n",
    "\n",
    "for s in range(11): # it should be between 1 and 11 \n",
    "    #values = (audio[s].overlay(audio[s+1])).overlay(audio[s+3])\n",
    "    \n",
    "    # is there a more synthetic way to write this??\n",
    "    values = audio[s].overlay(audio[s+1])\n",
    "    values2 = values.overlay(audio[s+2])\n",
    "    values3 = values2.overlay(audio[s+3])\n",
    "    values4 = values3.overlay(audio[s+4])\n",
    "    values5 = values4.overlay(audio[s+5])\n",
    "    values6 = values5.overlay(audio[s+6])\n",
    "    values7 = values6.overlay(audio[s+7])\n",
    "    values8 = values7.overlay(audio[s+8])\n",
    "    values9 = values8.overlay(audio[s+9])\n",
    "    mix.append(values9)\n",
    "    print(mix[s])\n",
    "\n",
    "mix[10].export(\"notes_/10_robot_sound/mixed_time_2.mp3\", format='mp3') # export mixed  audio file\n",
    "play(mix[10]) \n",
    "\n",
    "# I'm trying to use the same code, but saving the file as another one."
   ]
  },
  {
   "cell_type": "code",
   "execution_count": 32,
   "metadata": {},
   "outputs": [],
   "source": [
    "# Quantum circuit construction ------------------------------------------------------------------"
   ]
  },
  {
   "cell_type": "code",
   "execution_count": 33,
   "metadata": {},
   "outputs": [],
   "source": [
    "q = QuantumRegister(5, 'q') # qubits # changed to 9, formerly 15\n",
    "m2 = ClassicalRegister(1, 'c1') # classical bits (separated is better)\n",
    "m3 = ClassicalRegister(1, 'c2')\n",
    "m4 = ClassicalRegister(1, 'c3')\n",
    "\n",
    "qc3 = QuantumCircuit(q, m2, m3, m4) # to reach the target\n",
    "qc4 = QuantumCircuit(q, m2, m3, m4) # to get back to the nest"
   ]
  },
  {
   "cell_type": "code",
   "execution_count": 34,
   "metadata": {},
   "outputs": [],
   "source": [
    "# Which robot should enter the gate? -----------------------------------------------------------"
   ]
  },
  {
   "cell_type": "code",
   "execution_count": 35,
   "metadata": {},
   "outputs": [],
   "source": [
    "def print_formatted_vector(*args):\n",
    "    for vector in args:\n",
    "        print(\"[\" + \"\".join(f\"{val:.2f} \" for val in vector).strip() + \"]\")"
   ]
  },
  {
   "cell_type": "code",
   "execution_count": 36,
   "metadata": {},
   "outputs": [
    {
     "name": "stdout",
     "output_type": "stream",
     "text": [
      "Closest robot to the target: R1 0.35 0.55 0.45\n",
      "[0.65 0.35]\n",
      "[0.45 0.55]\n",
      "[0.55 0.45]\n",
      "[0.88 0.48]\n",
      "[0.63 0.77]\n",
      "[0.77 0.63]\n"
     ]
    }
   ],
   "source": [
    "# in case of ties on delta score, the max() function outputs the first maximum item it processes \n",
    "closest_robot = max(Robotx._registry, key=attrgetter('delta'))\n",
    "print(f\"Closest robot to the target: {closest_robot.name} {closest_robot.betax:.2f} {closest_robot.betay:.2f} {closest_robot.delta:.2f}\")\n",
    "\n",
    "# and then it enters the gate\n",
    "vector0 = [closest_robot.alphax, closest_robot.betax]\n",
    "vector1 = [closest_robot.alphay, closest_robot.betay]\n",
    "vector3 = [closest_robot.gamma, closest_robot.delta]\n",
    "\n",
    "normalized_v0 = vector0/np.linalg.norm(vector0)\n",
    "normalized_v1 = vector1/np.linalg.norm(vector1)\n",
    "normalized_v3 = vector3/np.linalg.norm(vector3)\n",
    "\n",
    "print_formatted_vector(vector0, vector1, vector3)\n",
    "print_formatted_vector(normalized_v0, normalized_v1, normalized_v3)"
   ]
  },
  {
   "cell_type": "code",
   "execution_count": 37,
   "metadata": {},
   "outputs": [],
   "source": [
    "# Setting up |q_0> ------------------------------------------------------------------------------"
   ]
  },
  {
   "cell_type": "code",
   "execution_count": 38,
   "metadata": {},
   "outputs": [
    {
     "data": {
      "text/plain": [
       "<qiskit.circuit.instructionset.InstructionSet at 0x7febb0049a00>"
      ]
     },
     "execution_count": 38,
     "metadata": {},
     "output_type": "execute_result"
    }
   ],
   "source": [
    "# direct initialization with amplitudes vector\n",
    "qc3.initialize(normalized_v0, q[0])\n",
    "qc3.initialize(normalized_v1, q[1])\n",
    "qc3.initialize(normalized_v3, q[2])"
   ]
  },
  {
   "cell_type": "code",
   "execution_count": 39,
   "metadata": {},
   "outputs": [
    {
     "name": "stdout",
     "output_type": "stream",
     "text": [
      "      ┌─────────────────────────────┐ ░                                    »\n",
      " q_0: ┤ Initialize(0.87809,0.47849) ├─░───■────■─────────■─────────────────»\n",
      "      ├─────────────────────────────┤ ░   │    │         │                 »\n",
      " q_1: ┤ Initialize(0.63449,0.77293) ├─░───■────■─────────┼────■────────────»\n",
      "      ├─────────────────────────────┤ ░   │    │         │    │  ┌───┐     »\n",
      " q_2: ┤ Initialize(0.77332,0.63402) ├─░───┼────┼─────────■────■──┤ X ├──■──»\n",
      "      └─────────────────────────────┘ ░ ┌─┴─┐  │       ┌─┴─┐  │  └───┘┌─┴─┐»\n",
      " q_3: ────────────────────────────────░─┤ X ├──┼───|0>─┤ X ├──┼───────┤ H ├»\n",
      "                                      ░ └───┘┌─┴─┐     └───┘┌─┴─┐     └───┘»\n",
      " q_4: ────────────────────────────────░──────┤ X ├─|0>──────┤ X ├──────────»\n",
      "                                      ░      └───┘          └───┘          »\n",
      "c1: 1/═════════════════════════════════════════════════════════════════════»\n",
      "                                                                           »\n",
      "c2: 1/═════════════════════════════════════════════════════════════════════»\n",
      "                                                                           »\n",
      "c3: 1/═════════════════════════════════════════════════════════════════════»\n",
      "                                                                           »\n",
      "«                 ░          \n",
      "« q_0: ───────────░──────────\n",
      "«                 ░          \n",
      "« q_1: ───────────░──────────\n",
      "«           ┌───┐ ░ ┌─┐      \n",
      "« q_2: ──■──┤ X ├─░─┤M├──────\n",
      "«        │  └───┘ ░ └╥┘┌─┐   \n",
      "« q_3: ──┼────────░──╫─┤M├───\n",
      "«      ┌─┴─┐      ░  ║ └╥┘┌─┐\n",
      "« q_4: ┤ H ├──────░──╫──╫─┤M├\n",
      "«      └───┘      ░  ║  ║ └╥┘\n",
      "«c1: 1/══════════════╩══╬══╬═\n",
      "«                    0  ║  ║ \n",
      "«c2: 1/═════════════════╩══╬═\n",
      "«                       0  ║ \n",
      "«c3: 1/════════════════════╩═\n",
      "«                          0 \n"
     ]
    }
   ],
   "source": [
    "# this is the core code, and it is unchanged across time\n",
    "\n",
    "qc3.barrier(q)\n",
    "qc3.ccx(q[0],q[1],q[3])\n",
    "qc3.ccx(q[0],q[1],q[4])\n",
    "\n",
    "qc3.reset(q[3])\n",
    "qc3.reset(q[4])\n",
    "\n",
    "qc3.ccx(q[0],q[2],q[3]) \n",
    "qc3.ccx(q[1],q[2],q[4])\n",
    "\n",
    "qc3.x(q[2])\n",
    "\n",
    "qc3.ch(q[2],q[3])\n",
    "qc3.ch(q[2],q[4])\n",
    "\n",
    "qc3.x(q[2])\n",
    "\n",
    "qc3.barrier(q)\n",
    "\n",
    "# perform measurements and store them in classical bits\n",
    "\n",
    "qc3.measure(q[2],m2[0])\n",
    "qc3.measure(q[3],m3[0])\n",
    "qc3.measure(q[4],m4[0])\n",
    "\n",
    "# visualization of the ciruit\n",
    "\n",
    "# qc3.draw(fold=-1, output=\"mpl\")\n",
    "# plt.show();\n",
    "\n",
    "print(qc3)"
   ]
  },
  {
   "cell_type": "code",
   "execution_count": 40,
   "metadata": {},
   "outputs": [
    {
     "name": "stdout",
     "output_type": "stream",
     "text": [
      "counts:  {'1 0 1': 187, '0 1 1': 39, '1 1 1': 55, '0 0 1': 119, '1 1 0': 162, '1 0 0': 146, '0 1 0': 171, '0 0 0': 145}\n"
     ]
    },
    {
     "data": {
      "image/png": "[encoded data removed]",
      "text/plain": [
       "<Figure size 504x360 with 1 Axes>"
      ]
     },
     "execution_count": 40,
     "metadata": {},
     "output_type": "execute_result"
    }
   ],
   "source": [
    "aer_sim = Aer.get_backend(\"aer_simulator\")\n",
    "transpiled_qc = transpile(qc3, aer_sim)\n",
    "result = aer_sim.run(transpiled_qc).result()\n",
    "\n",
    "counts = result.get_counts()\n",
    "print(\"counts: \", counts)\n",
    "\n",
    "plot_histogram(result.get_counts())"
   ]
  },
  {
   "cell_type": "code",
   "execution_count": 41,
   "metadata": {},
   "outputs": [],
   "source": [
    "def eval_outcome(most_prob_dict, n_outcome):\n",
    "    mapped_weights0 = list(map(lambda res: int(res[n_outcome*2])*most_prob_dict[res], most_prob_dict))\n",
    "    return sum(mapped_weights0)/sum(most_prob_dict.values())"
   ]
  },
  {
   "cell_type": "code",
   "execution_count": 42,
   "metadata": {},
   "outputs": [
    {
     "name": "stdout",
     "output_type": "stream",
     "text": [
      "4 most probable states: {'1 0 1': 187, '0 1 0': 171, '1 1 0': 162, '1 0 0': 146}\n",
      "outcome0: 0.74\n",
      "outcome1: 0.50\n"
     ]
    }
   ],
   "source": [
    "num_most_prob_states = 4\n",
    "\n",
    "# https://docs.python.org/3/library/heapq.html: \n",
    "#\n",
    "# heapq.nlargest(n, iterable, key=None) returns a list with the n largest element of iterable\n",
    "#\n",
    "most_prob_dict = dict(heapq.nlargest(num_most_prob_states, counts.items(), key=itemgetter(1)))\n",
    "print(f\"{num_most_prob_states} most probable states: {most_prob_dict}\")\n",
    "\n",
    "outcome0, outcome1 = eval_outcome(most_prob_dict, 0), eval_outcome(most_prob_dict, 1)\n",
    "\n",
    "print(f\"outcome0: {outcome0:.2f}\\noutcome1: {outcome1:.2f}\")\n"
   ]
  },
  {
   "cell_type": "code",
   "execution_count": 43,
   "metadata": {},
   "outputs": [],
   "source": [
    "# Setting new positions after the gate ---------------------------------------------------------------"
   ]
  },
  {
   "cell_type": "code",
   "execution_count": 44,
   "metadata": {},
   "outputs": [
    {
     "name": "stdout",
     "output_type": "stream",
     "text": [
      "R0 0.26 0.51\n",
      "R1 0.35 0.55\n",
      "R2 0.47 0.87\n"
     ]
    }
   ],
   "source": [
    "for i in Robotx._registry:\n",
    "    print(f\"{i.name} {i.betax:.2f} {i.betay:.2f}\")\n",
    "    if (i.delta != closest_robot.delta or all(i.delta == j.delta for j in Robotx._registry)): # excluding the robot that entered the gate\n",
    "        # CHANGE: but taking into account the case where all robots have the same reward!!!\n",
    "        # for z\n",
    "        #i.betaz = outcome0\n",
    "        # the lower this value, the closer the robot to the 0, the higher alphaz\n",
    "        #i.alphaz = round(1 - i.betaz, 3)\n",
    "        # for y\n",
    "        i.betay = outcome0 # changed this\n",
    "        i.alphay = 1 - i.betay\n",
    "        # for x\n",
    "        i.betax = outcome1 # changed this\n",
    "        i.alphax = 1 - i.betax"
   ]
  },
  {
   "cell_type": "code",
   "execution_count": 45,
   "metadata": {},
   "outputs": [
    {
     "name": "stdout",
     "output_type": "stream",
     "text": [
      "R0 0.50 0.74 0.64 1\n",
      "R1 0.35 0.55 0.55 2\n",
      "R2 0.50 0.74 0.57 3\n"
     ]
    }
   ],
   "source": [
    "for k in Robotx._registry:\n",
    "    print(f\"{k.name} {k.betax:.2f} {k.betay:.2f} {k.gamma:.2f} {k.position}\")"
   ]
  },
  {
   "cell_type": "code",
   "execution_count": 46,
   "metadata": {},
   "outputs": [
    {
     "name": "stdout",
     "output_type": "stream",
     "text": [
      "before the gate: R0 0.36\n",
      "before the gate: R1 0.45\n",
      "before the gate: R2 0.43\n"
     ]
    }
   ],
   "source": [
    "# former rewards \n",
    "for i in  Robotx._registry:\n",
    "    print(f\"before the gate: {i.name} {i.delta:.2f}\")"
   ]
  },
  {
   "cell_type": "code",
   "execution_count": 47,
   "metadata": {},
   "outputs": [
    {
     "name": "stdout",
     "output_type": "stream",
     "text": [
      "after the gate: R0 0.53\n",
      "after the gate: R1 0.45\n",
      "after the gate: R2 0.53\n"
     ]
    }
   ],
   "source": [
    "# new rewards\n",
    "for i in  Robotx._registry: # recalculate the rewards\n",
    "    i.delta = reward(T, i.betax, i.betay)\n",
    "    i.gamma = 1 - i.delta\n",
    "    print(f\"after the gate: {i.name} {i.delta:.2f}\")"
   ]
  },
  {
   "cell_type": "code",
   "execution_count": 48,
   "metadata": {},
   "outputs": [],
   "source": [
    "# MATRIX after the computation of the gate"
   ]
  },
  {
   "cell_type": "code",
   "execution_count": 49,
   "metadata": {},
   "outputs": [],
   "source": [
    "# IF we consider only the most successful robot entering the gate, then the off-diagonal terms are all equal"
   ]
  },
  {
   "cell_type": "code",
   "execution_count": 73,
   "metadata": {
    "scrolled": true
   },
   "outputs": [
    {
     "name": "stdout",
     "output_type": "stream",
     "text": [
      "\n",
      "\n",
      "Off-diagonal block:  R1 * Rj\n",
      "[[0.4 0.5 0.  0.5]\n",
      " [0.6 0.5 0.  0.5]\n",
      " [0.5 0.7 0.  0. ]\n",
      " [0.5 0.3 0.  0. ]]\n"
     ]
    }
   ],
   "source": [
    "# print(\"Because we let only the most successful robot enter the gate, then the off-diagonal blocks will be the same\")\n",
    "print('\\n')\n",
    "print(\"Off-diagonal block: \", closest_robot.name, \"* Rj\")\n",
    "OffDiag = np.array([[round(closest_robot.betax, 1), round(closest_robot.betay, 1), 0, round(closest_robot.delta, 1)],\n",
    "           [round(closest_robot.alphax, 1), round(closest_robot.alphay, 1), 0, round(closest_robot.gamma, 1)],\n",
    "           [round(outcome1, 1), round(outcome0, 1), 0, 0], [round(1 - outcome1, 1), round(1 - outcome0, 1), 0, 0]])\n",
    "           \n",
    "           # (check normalization from the path-planning code!)\n",
    "print(OffDiag)\n",
    "\n",
    "# ...where we put zeros in correspondence of zeta"
   ]
  },
  {
   "cell_type": "code",
   "execution_count": 74,
   "metadata": {},
   "outputs": [
    {
     "name": "stdout",
     "output_type": "stream",
     "text": [
      "submatrix relative to R0\n",
      "index:  0\n",
      "\n",
      "\n",
      "0.5 1   0   0.5 \n",
      "0.7 1   0   0.5 \n",
      "0   0   0   0   \n",
      "on  on  normal0   \n",
      "\n",
      "\n",
      "submatrix relative to R1\n",
      "index:  1\n",
      "\n",
      "\n",
      "0.4 1   0   0.5 \n",
      "0.5 1   0   0.5 \n",
      "0   0   0   0   \n",
      "on  on  normal0   \n",
      "\n",
      "\n",
      "submatrix relative to R2\n",
      "index:  2\n",
      "\n",
      "\n",
      "0.5 1   0   0.5 \n",
      "0.7 1   0   0.5 \n",
      "0   0   0   0   \n",
      "on  on  normal0   \n",
      "\n",
      "\n"
     ]
    }
   ],
   "source": [
    "# Updating the diagonal blocks:\n",
    "\n",
    "for Ri in Robotx._registry:\n",
    "    print(\"submatrix relative to\", Ri.name) # CORRECT \"Ri_matrix\" # Ri.position\n",
    "    print(\"index: \", Ri.position - 1)\n",
    "    speed = 1 # we are considering a constant speed for now, for all robots, along all directions, except zeta\n",
    "    acceleration = 0 # same as above\n",
    "    # the zeta component is not here: there are zeros in correspondence of z information\n",
    "    # we suppose constant charge use\n",
    "    charge = 0.5\n",
    "\n",
    "    Ri.matrix = np.array([[round(Ri.betax, 1), speed, acceleration, round(Ri.delta, 1)], [round(Ri.betay, 1), speed, acceleration, charge],[0, 0, 0, 0], [\"on\", \"on\", \"normal\", 0]])\n",
    "    print('\\n')\n",
    "    \n",
    "    #print(Ri.matrix)\n",
    "    \n",
    "    print('\\n'.join([''.join(['{:4}'.format(item) for item in row])\n",
    "                 for row in Ri.matrix]))\n",
    "    \n",
    "    # print(\"index check:\", Ri.position)\n",
    "    # create a label\n",
    "    if (Ri.position == 1):\n",
    "        R1_matrix = Ri.matrix\n",
    "    if (Ri.position == 2):\n",
    "        R2_matrix = Ri.matrix\n",
    "    if (Ri.position == 3):\n",
    "        R3_matrix = Ri.matrix\n",
    "        \n",
    "    print('\\n')\n",
    "\n",
    "#print(R1_matrix)\n",
    "#print(R2_matrix)\n",
    "#print(R3_matrix)\n",
    "#print(NullMatrix)"
   ]
  },
  {
   "cell_type": "code",
   "execution_count": 75,
   "metadata": {},
   "outputs": [
    {
     "name": "stdout",
     "output_type": "stream",
     "text": [
      " 0.4 0.5 0.0 0.5\n",
      " 0.6 0.5 0.0 0.5\n",
      " 0.5 0.7 0.0 0.0\n",
      " 0.5 0.3 0.0 0.0\n",
      "\n",
      "\n",
      "0.5 1   0   0.5 \n",
      "0.7 1   0   0.5 \n",
      "0   0   0   0   \n",
      "on  on  normal0   \n",
      "\n",
      "\n",
      "0.4 1   0   0.5 \n",
      "0.5 1   0   0.5 \n",
      "0   0   0   0   \n",
      "on  on  normal0   \n",
      "\n",
      "\n",
      "0.5 1   0   0.5 \n",
      "0.7 1   0   0.5 \n",
      "0   0   0   0   \n",
      "on  on  normal0   \n"
     ]
    }
   ],
   "source": [
    "print('\\n'.join([''.join(['{:4}'.format(item) for item in row])\n",
    "                 for row in OffDiag]))\n",
    "\n",
    "print('\\n')\n",
    "\n",
    "print('\\n'.join([''.join(['{:4}'.format(item) for item in row])\n",
    "                 for row in R1_matrix]))\n",
    "print('\\n')\n",
    "\n",
    "print('\\n'.join([''.join(['{:4}'.format(item) for item in row])\n",
    "                 for row in R2_matrix]))\n",
    "print('\\n')\n",
    "\n",
    "print('\\n'.join([''.join(['{:4}'.format(item) for item in row])\n",
    "                 for row in R3_matrix]))\n"
   ]
  },
  {
   "cell_type": "code",
   "execution_count": 76,
   "metadata": {},
   "outputs": [
    {
     "name": "stdout",
     "output_type": "stream",
     "text": [
      "0.5     1       0       0.5     0.4     0.5     0.0     0.5     0.4     0.5     0.0     0.5     \n",
      "0.7     1       0       0.5     0.6     0.5     0.0     0.5     0.6     0.5     0.0     0.5     \n",
      "0       0       0       0       0.5     0.7     0.0     0.0     0.5     0.7     0.0     0.0     \n",
      "on      on      normal  0       0.5     0.3     0.0     0.0     0.5     0.3     0.0     0.0     \n",
      "0.4     0.5     0.0     0.5     0.4     1       0       0.5     0.4     0.5     0.0     0.5     \n",
      "0.6     0.5     0.0     0.5     0.5     1       0       0.5     0.6     0.5     0.0     0.5     \n",
      "0.5     0.7     0.0     0.0     0       0       0       0       0.5     0.7     0.0     0.0     \n",
      "0.5     0.3     0.0     0.0     on      on      normal  0       0.5     0.3     0.0     0.0     \n",
      "0.4     0.5     0.0     0.5     0.4     0.5     0.0     0.5     0.5     1       0       0.5     \n",
      "0.6     0.5     0.0     0.5     0.6     0.5     0.0     0.5     0.7     1       0       0.5     \n",
      "0.5     0.7     0.0     0.0     0.5     0.7     0.0     0.0     0       0       0       0       \n",
      "0.5     0.3     0.0     0.0     0.5     0.3     0.0     0.0     on      on      normal  0       \n"
     ]
    }
   ],
   "source": [
    "# with the off-diagonal blocks:\n",
    "WholeMatrixRobot = np.block([[R1_matrix, OffDiag, OffDiag], [OffDiag, R2_matrix, OffDiag], [OffDiag, OffDiag, R3_matrix]])\n",
    "\n",
    "print('\\n'.join([''.join(['{:8}'.format(item) for item in row])\n",
    "                 for row in WholeMatrixRobot]))\n"
   ]
  },
  {
   "cell_type": "code",
   "execution_count": null,
   "metadata": {},
   "outputs": [],
   "source": []
  },
  {
   "cell_type": "markdown",
   "metadata": {},
   "source": [
    "# audio block #3\n",
    "\n",
    "# audio 3\n",
    "\n",
    "# we can define \"audio\" as an attribute... no, better not.\n",
    "\n",
    "audio = []\n",
    "\n",
    "for x in range(11): # it should be between 1 and 11 \n",
    "    valuex = AudioSegment.from_file(\"notes_/tC.mp3\")\n",
    "    audio.append(valuex)\n",
    "for i in range(11):\n",
    "    print(audio[i]) # at this stage, they are supposed to all give tC.mp3\n",
    "\n",
    "for i in Robotx._registry:\n",
    "    if (i.betax == 0):\n",
    "        if (i.betay == 0.5):\n",
    "            valuex = AudioSegment.from_file(\"notes_/tC.mp3\") # i.audio\n",
    "            audio.append(valuex)\n",
    "            print(\"tC\")\n",
    "    if (i.betax > 0 and i.betax <= 0.17):\n",
    "        if (i.betay < 0.5):\n",
    "            valuex = AudioSegment.from_file(\"notes_/tB.mp3\")\n",
    "            audio.append(valuex)\n",
    "            print(\"tB\")\n",
    "        if (i.betay >= 0.5):\n",
    "            valuex = AudioSegment.from_file(\"notes_/tC#.mp3\")\n",
    "            audio.append(valuex)\n",
    "            print(\"tC#\")\n",
    "    if (i.betax > 0.17 and i.betax <= 0.3):\n",
    "        if (i.betay < 0.5): # if (R1.betay >= 0.17 and R1.betay < 0.3):\n",
    "            valuex = AudioSegment.from_file(\"notes_/tA#.mp3\")\n",
    "            audio.append(valuex)\n",
    "            print(\"tA#\")\n",
    "        if (i.betay >= 0.5):\n",
    "            valuex = AudioSegment.from_file(\"notes_/tD.mp3\")\n",
    "            audio.append(valuex)\n",
    "            print(\"tD\")\n",
    "    if (i.betax > 0.3 and i.betax <= 0.5):\n",
    "        if (i.betay < 0.5): # (R1.betay == 1):\n",
    "            valuex = AudioSegment.from_file(\"notes_/tD#.mp3\")\n",
    "            audio.append(valuex)\n",
    "            print(\"tD#\")\n",
    "        if (i.betay >= 0.5):\n",
    "            valuex = AudioSegment.from_file(\"notes_/tA.mp3\")\n",
    "            audio.append(valuex)\n",
    "            print(\"tA\")\n",
    "    if (i.betax > 0.5 and i.betax <= 0.64):\n",
    "        if (i.betay < 0.5):\n",
    "            valuex = AudioSegment.from_file(\"notes_/tE.mp3\")\n",
    "            audio.append(valuex)\n",
    "            print(\"tE\")\n",
    "        if (i.betay >= 0.5):\n",
    "            valuex = AudioSegment.from_file(\"notes_/tG#.mp3\")\n",
    "            audio.append(valuex)\n",
    "            print(\"tG#\")\n",
    "    if (i.betax > 0.64 and i.betax <= 0.84):\n",
    "        if (i.betay < 0.5):\n",
    "            valuex = AudioSegment.from_file(\"notes_/tF.mp3\")\n",
    "            audio.append(valuex)\n",
    "            print(\"tF\")\n",
    "        if (i.betay >= 0.5):\n",
    "            valuex = AudioSegment.from_file(\"notes_/tG.mp3\")\n",
    "            audio.append(valuex)\n",
    "            print(\"tG\")\n",
    "    if (i.betax > 0.84 and i.betax <= 1):\n",
    "        #if (R1.betay == 0.5):\n",
    "        valuex = AudioSegment.from_file(\"notes_/tF#.mp3\")\n",
    "        audio.append(valuex)\n",
    "        print(\"tF#\")\n",
    "        \n",
    "        \n",
    "        \n",
    "for i in Robotx._registry:\n",
    "    print(audio[i.position]) # at this stage, they are supposed to all give tC.mp3\n",
    "    \n",
    "\n",
    "    \n",
    "\n",
    "mix = []\n",
    "\n",
    "for s in range(11): # it should be between 1 and 11 \n",
    "    #values = (audio[s].overlay(audio[s+1])).overlay(audio[s+3])\n",
    "    \n",
    "    # is there a more synthetic way to write this??\n",
    "    values = audio[s].overlay(audio[s+1])\n",
    "    values2 = values.overlay(audio[s+2])\n",
    "    values3 = values2.overlay(audio[s+3])\n",
    "    values4 = values3.overlay(audio[s+4])\n",
    "    values5 = values4.overlay(audio[s+5])\n",
    "    values6 = values5.overlay(audio[s+6])\n",
    "    values7 = values6.overlay(audio[s+7])\n",
    "    values8 = values7.overlay(audio[s+8])\n",
    "    values9 = values8.overlay(audio[s+9])\n",
    "    mix.append(values9)\n",
    "    print(mix[s])\n",
    "\n",
    "mix[10].export(\"notes_/10_robot_sound/mixed_time_3.mp3\", format='mp3') # export mixed  audio file\n",
    "play(mix[10]) \n"
   ]
  },
  {
   "cell_type": "code",
   "execution_count": null,
   "metadata": {},
   "outputs": [],
   "source": [
    "# Reach the most successful robot -------------------------------------------------------"
   ]
  },
  {
   "cell_type": "code",
   "execution_count": null,
   "metadata": {},
   "outputs": [],
   "source": [
    "# not for now\n",
    "\n",
    "for i in  Robotx._registry: # recalculate the rewards\n",
    "    i.delta = reward(T, i.betax, i.betay)\n",
    "    i.gamma = (1 - i.delta, 3)\n",
    "    \n",
    "max_attr_ = max(Robotx._registry, key=attrgetter('delta'))\n",
    "print(f\"max_attr_.delta: {max_attr_.delta:.2f}\")\n",
    "\n",
    "for i in Robotx._registry:\n",
    "    if (i.delta == max_attr_.delta):\n",
    "        print(f\"Most successful robot: {i.name} {i.betax:.2f} {i.betay:.2f} {i.delta:.2f}\") # and then it enters the gate\n",
    "\n",
    "for j in Robotx._registry:\n",
    "    # to get other robots following it:\n",
    "    if (j != max_attr_): # changed here\n",
    "        flag = True\n",
    "        while flag:\n",
    "            flag = False\n",
    "            j.alphax = max_attr_.alphax + np.random.uniform(0,0.01)\n",
    "            j.betax = 1 - j.alphax\n",
    "            j.alphay = max_attr_.alphay + np.random.uniform(0,0.01)\n",
    "            j.betay = 1 - j.alphay\n",
    "            if (j.betax - O.x <= 0.2 and j.betay - O.y <= 0.2):\n",
    "                flag = True\n",
    "                   \n",
    "# recalculate the rewards here:\n",
    "\n",
    "for k in  Robotx._registry: # recalculate the rewards\n",
    "    k.delta = reward(T, k.betax, k.betay)\n",
    "    k.gamma = 1 - k.delta\n",
    "    print(f\"{k.name} {k.delta:.2f}\")"
   ]
  },
  {
   "cell_type": "code",
   "execution_count": null,
   "metadata": {},
   "outputs": [],
   "source": [
    "for i in  Robotx._registry: # recalculate the rewards\n",
    "    i.delta = reward(T, i.betax, i.betay)\n",
    "    i.gamma = 1 - i.delta\n",
    "    print(f\"{i.name} {i.delta:.2f}\")"
   ]
  },
  {
   "cell_type": "code",
   "execution_count": null,
   "metadata": {},
   "outputs": [],
   "source": [
    "for k in Robotx._registry:\n",
    "    print(f\"{k.name} {k.betax:.2f} {k.betay:.2f} {k.gamma:.2f} {k.delta:.2f} {k.position}\")"
   ]
  },
  {
   "cell_type": "code",
   "execution_count": null,
   "metadata": {},
   "outputs": [],
   "source": [
    "plot_scatterplot()"
   ]
  },
  {
   "cell_type": "markdown",
   "metadata": {},
   "source": [
    "# audio block #4\n",
    "\n",
    "# audio 4\n",
    "\n",
    "# we can define \"audio\" as an attribute... no, better not.\n",
    "\n",
    "audio = []\n",
    "\n",
    "for x in range(11): # it should be between 1 and 11 \n",
    "    valuex = AudioSegment.from_file(\"notes_/tC.mp3\")\n",
    "    audio.append(valuex)\n",
    "for i in range(11):\n",
    "    print(audio[i]) # at this stage, they are supposed to all give tC.mp3\n",
    "\n",
    "for i in Robotx._registry:\n",
    "    if (i.betax == 0):\n",
    "        if (i.betay == 0.5):\n",
    "            valuex = AudioSegment.from_file(\"notes_/tC.mp3\") # i.audio\n",
    "            audio.append(valuex)\n",
    "            print(\"tC\")\n",
    "    if (i.betax > 0 and i.betax <= 0.17):\n",
    "        if (i.betay < 0.5):\n",
    "            valuex = AudioSegment.from_file(\"notes_/tB.mp3\")\n",
    "            audio.append(valuex)\n",
    "            print(\"tB\")\n",
    "        if (i.betay >= 0.5):\n",
    "            valuex = AudioSegment.from_file(\"notes_/tC#.mp3\")\n",
    "            audio.append(valuex)\n",
    "            print(\"tC#\")\n",
    "    if (i.betax > 0.17 and i.betax <= 0.3):\n",
    "        if (i.betay < 0.5): # if (R1.betay >= 0.17 and R1.betay < 0.3):\n",
    "            valuex = AudioSegment.from_file(\"notes_/tA#.mp3\")\n",
    "            audio.append(valuex)\n",
    "            print(\"tA#\")\n",
    "        if (i.betay >= 0.5):\n",
    "            valuex = AudioSegment.from_file(\"notes_/tD.mp3\")\n",
    "            audio.append(valuex)\n",
    "            print(\"tD\")\n",
    "    if (i.betax > 0.3 and i.betax <= 0.5):\n",
    "        if (i.betay < 0.5): # (R1.betay == 1):\n",
    "            valuex = AudioSegment.from_file(\"notes_/tD#.mp3\")\n",
    "            audio.append(valuex)\n",
    "            print(\"tD#\")\n",
    "        if (i.betay >= 0.5):\n",
    "            valuex = AudioSegment.from_file(\"notes_/tA.mp3\")\n",
    "            audio.append(valuex)\n",
    "            print(\"tA\")\n",
    "    if (i.betax > 0.5 and i.betax <= 0.64):\n",
    "        if (i.betay < 0.5):\n",
    "            valuex = AudioSegment.from_file(\"notes_/tE.mp3\")\n",
    "            audio.append(valuex)\n",
    "            print(\"tE\")\n",
    "        if (i.betay >= 0.5):\n",
    "            valuex = AudioSegment.from_file(\"notes_/tG#.mp3\")\n",
    "            audio.append(valuex)\n",
    "            print(\"tG#\")\n",
    "    if (i.betax > 0.64 and i.betax <= 0.84):\n",
    "        if (i.betay < 0.5):\n",
    "            valuex = AudioSegment.from_file(\"notes_/tF.mp3\")\n",
    "            audio.append(valuex)\n",
    "            print(\"tF\")\n",
    "        if (i.betay >= 0.5):\n",
    "            valuex = AudioSegment.from_file(\"notes_/tG.mp3\")\n",
    "            audio.append(valuex)\n",
    "            print(\"tG\")\n",
    "    if (i.betax > 0.84 and i.betax <= 1):\n",
    "        #if (R1.betay == 0.5):\n",
    "        valuex = AudioSegment.from_file(\"notes_/tF#.mp3\")\n",
    "        audio.append(valuex)\n",
    "        print(\"tF#\")\n",
    "        \n",
    "        \n",
    "        \n",
    "for i in Robotx._registry:\n",
    "    print(audio[i.position]) # at this stage, they are supposed to all give tC.mp3\n",
    "    \n",
    "\n",
    "    \n",
    "\n",
    "mix = []\n",
    "\n",
    "for s in range(11): # it should be between 1 and 11 \n",
    "    #values = (audio[s].overlay(audio[s+1])).overlay(audio[s+3])\n",
    "    \n",
    "    # is there a more synthetic way to write this??\n",
    "    values = audio[s].overlay(audio[s+1])\n",
    "    values2 = values.overlay(audio[s+2])\n",
    "    values3 = values2.overlay(audio[s+3])\n",
    "    values4 = values3.overlay(audio[s+4])\n",
    "    values5 = values4.overlay(audio[s+5])\n",
    "    values6 = values5.overlay(audio[s+6])\n",
    "    values7 = values6.overlay(audio[s+7])\n",
    "    values8 = values7.overlay(audio[s+8])\n",
    "    values9 = values8.overlay(audio[s+9])\n",
    "    mix.append(values9)\n",
    "    print(mix[s])\n",
    "\n",
    "mix[10].export(\"notes_/10_robot_sound/mixed_time_4.mp3\", format='mp3') # export mixed  audio file\n",
    "play(mix[10]) \n"
   ]
  },
  {
   "cell_type": "code",
   "execution_count": null,
   "metadata": {},
   "outputs": [],
   "source": [
    "# After the arrival"
   ]
  },
  {
   "cell_type": "code",
   "execution_count": 78,
   "metadata": {},
   "outputs": [
    {
     "name": "stdout",
     "output_type": "stream",
     "text": [
      "submatrix relative to R0\n",
      "index:  0\n",
      "\n",
      "\n",
      "0.5 1   0   0.5 \n",
      "0.7 1   0   0.5 \n",
      "0   0   0   0   \n",
      "on  on  normal0   \n",
      "\n",
      "\n",
      "submatrix relative to R1\n",
      "index:  1\n",
      "\n",
      "\n",
      "0.4 1   0   0.5 \n",
      "0.5 1   0   0.5 \n",
      "0   0   0   0   \n",
      "on  on  normal0   \n",
      "\n",
      "\n",
      "submatrix relative to R2\n",
      "index:  2\n",
      "\n",
      "\n",
      "0.5 1   0   0.5 \n",
      "0.7 1   0   0.5 \n",
      "0   0   0   0   \n",
      "on  on  normal0   \n",
      "gulp\n",
      "\n",
      "\n"
     ]
    }
   ],
   "source": [
    "for Ri in Robotx._registry:\n",
    "    print(\"submatrix relative to\", Ri.name) # CORRECT \"Ri_matrix\" # Ri.position\n",
    "    print(\"index: \", Ri.position - 1)\n",
    "    speed = 1 # we are considering a constant speed for now, for all robots, along all directions, except zeta\n",
    "    acceleration = 0 # same as above\n",
    "    # the zeta component is not here: there are zeros in correspondence of z information\n",
    "    # we suppose constant charge use\n",
    "    charge = 0.5\n",
    "\n",
    "    Ri.matrix = np.array([[round(Ri.betax, 1), speed, acceleration, round(Ri.delta, 1)], [round(Ri.betay, 1), speed, acceleration, charge],[0, 0, 0, 0], [\"on\", \"on\", \"normal\", 0]])\n",
    "    print('\\n')\n",
    "    \n",
    "    #print(Ri.matrix)\n",
    "    \n",
    "    print('\\n'.join([''.join(['{:4}'.format(item) for item in row])\n",
    "                 for row in Ri.matrix]))\n",
    "    \n",
    "    # print(\"index check:\", Ri.position)\n",
    "    # create a label\n",
    "    if (Ri.position == 1):\n",
    "        #print(\"bla\")\n",
    "        R1_matrix = Ri.matrix\n",
    "    if (Ri.position == 2):\n",
    "        #print(\"blu\")\n",
    "        R2_matrix = Ri.matrix\n",
    "    if (Ri.position == 3):\n",
    "        print(\"gulp\")\n",
    "        R3_matrix = Ri.matrix\n",
    "        \n",
    "    print('\\n')\n",
    "\n",
    "#print(R1_matrix)\n",
    "#print(R2_matrix)\n",
    "#print(R3_matrix)\n",
    "#print(NullMatrix)\n"
   ]
  },
  {
   "cell_type": "code",
   "execution_count": 79,
   "metadata": {},
   "outputs": [
    {
     "name": "stdout",
     "output_type": "stream",
     "text": [
      "0.5     1       0       0.5     0       0       0       0       0       0       0       0       \n",
      "0.7     1       0       0.5     0       0       0       0       0       0       0       0       \n",
      "0       0       0       0       0       0       0       0       0       0       0       0       \n",
      "on      on      normal  0       0       0       0       0       0       0       0       0       \n",
      "0       0       0       0       0.4     1       0       0.5     0       0       0       0       \n",
      "0       0       0       0       0.5     1       0       0.5     0       0       0       0       \n",
      "0       0       0       0       0       0       0       0       0       0       0       0       \n",
      "0       0       0       0       on      on      normal  0       0       0       0       0       \n",
      "0       0       0       0       0       0       0       0       0.5     1       0       0.5     \n",
      "0       0       0       0       0       0       0       0       0.7     1       0       0.5     \n",
      "0       0       0       0       0       0       0       0       0       0       0       0       \n",
      "0       0       0       0       0       0       0       0       on      on      normal  0       \n"
     ]
    }
   ],
   "source": [
    "WholeMatrixRobot = np.block([[R1_matrix, NullMatrix, NullMatrix], [NullMatrix, R2_matrix, NullMatrix], [NullMatrix, NullMatrix, R3_matrix]])\n",
    "\n",
    "print('\\n'.join([''.join(['{:8}'.format(item) for item in row])\n",
    "                 for row in WholeMatrixRobot]))"
   ]
  },
  {
   "cell_type": "code",
   "execution_count": null,
   "metadata": {},
   "outputs": [],
   "source": []
  }
 ],
 "metadata": {
  "interpreter": {
   "hash": "2db524e06e9f5f4ffedc911c917cb75e12dbc923643829bf417064a77eb14d37"
  },
  "kernelspec": {
   "display_name": "Python 3 (ipykernel)",
   "language": "python",
   "name": "python3"
  },
  "language_info": {
   "codemirror_mode": {
    "name": "ipython",
    "version": 3
   },
   "file_extension": ".py",
   "mimetype": "text/x-python",
   "name": "python",
   "nbconvert_exporter": "python",
   "pygments_lexer": "ipython3",
   "version": "3.9.7"
  }
 },
 "nbformat": 4,
 "nbformat_minor": 2
}
