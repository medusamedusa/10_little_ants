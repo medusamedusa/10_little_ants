{
 "cells": [
  {
   "cell_type": "code",
   "execution_count": 2,
   "metadata": {},
   "outputs": [],
   "source": [
    "from qiskit import QuantumRegister, ClassicalRegister, QuantumCircuit, Aer, transpile\n",
    "import numpy as np\n",
    "from qiskit.visualization import plot_histogram\n",
    "from qiskit import *\n",
    "import random\n",
    "import matplotlib.pyplot as plt\n",
    "from operator import attrgetter\n",
    "import matplotlib.pyplot as plt\n",
    "import heapq\n",
    "from operator import itemgetter\n",
    "from pydub import AudioSegment # for audio\n",
    "from pydub.playback import play # for audio"
   ]
  },
  {
   "cell_type": "code",
   "execution_count": 3,
   "metadata": {},
   "outputs": [],
   "source": [
    "# Target & reward ------------------------------------------------------------------------"
   ]
  },
  {
   "cell_type": "code",
   "execution_count": 4,
   "metadata": {},
   "outputs": [],
   "source": [
    "class Target:\n",
    "    def __init__(self,name,x,y): # no indetermination in the target's position\n",
    "        self.name = name\n",
    "        self.x = x\n",
    "        self.y = y"
   ]
  },
  {
   "cell_type": "code",
   "execution_count": 4,
   "metadata": {},
   "outputs": [],
   "source": [
    "T = Target(\"T\", 0.9, 0.5) # deep in the ocean\n",
    "\n",
    "# for getting back to the beginning\n",
    "T2 = Target(\"T2\", 0.2, 0.5) # back to the ship"
   ]
  },
  {
   "cell_type": "code",
   "execution_count": 5,
   "metadata": {},
   "outputs": [],
   "source": [
    "def reward(T, betax, betay):\n",
    "    return 1 - ((T.x - betax)**2 + (T.y - betay)**2)**0.5\n",
    "    # the closer the target, the less the distance, the higher the reward\n",
    "    "
   ]
  },
  {
   "cell_type": "code",
   "execution_count": 6,
   "metadata": {},
   "outputs": [],
   "source": [
    "# Obstacles ----------------------------------------------------------------------------"
   ]
  },
  {
   "cell_type": "code",
   "execution_count": 7,
   "metadata": {},
   "outputs": [],
   "source": [
    "class Obstacle: # Just a point for now\n",
    "    def __init__(self,name,x,y):\n",
    "        self.name = name\n",
    "        self.x = x\n",
    "        self.y = y"
   ]
  },
  {
   "cell_type": "code",
   "execution_count": 8,
   "metadata": {},
   "outputs": [],
   "source": [
    "O = Obstacle(\"Oo\", 0.8, 0.2) # deep in the ocean"
   ]
  },
  {
   "cell_type": "code",
   "execution_count": 9,
   "metadata": {},
   "outputs": [],
   "source": [
    "# Robots -------------------------------------------------------------------------------"
   ]
  },
  {
   "cell_type": "code",
   "execution_count": 10,
   "metadata": {},
   "outputs": [],
   "source": [
    "class Robotx(object):\n",
    "    _registry = []\n",
    "\n",
    "    def __init__(self, name, alphax, betax, alphay, betay, gamma, delta, position):\n",
    "        self._registry.append(self)\n",
    "        self.name = name\n",
    "        self.alphax = alphax\n",
    "        self.betax = betax\n",
    "        self.alphay = alphay\n",
    "        self.betay = betay\n",
    "        delta = reward(T, betax, betay)\n",
    "        gamma = 1 - delta\n",
    "        self.gamma = gamma\n",
    "        self.delta = delta\n",
    "        self.position = position # new -- I need it for sound"
   ]
  },
  {
   "cell_type": "code",
   "execution_count": 11,
   "metadata": {},
   "outputs": [],
   "source": [
    "# arbitrary number of robots that, at the start, are uniformly distributed in the square of side length radius*2,\n",
    "# centered in starting_cluster_coord\n",
    "#\n",
    "num_of_robots = 10\n",
    "radius = 0.1\n",
    "starting_cluster_coord = (0.2, 0.5)\n",
    "\n",
    "a_x, a_y = 1-starting_cluster_coord[0]-radius, 1-starting_cluster_coord[0]+radius\n",
    "b_x, b_y = 1-starting_cluster_coord[1]-radius, 1-starting_cluster_coord[1]+radius\n",
    "\n",
    "for i in range(num_of_robots):\n",
    "    x = random.uniform(a_x,a_y)\n",
    "    y = random.uniform(b_x,b_y)\n",
    "    Robotx('R'+str(i), x, 1-x, y, 1-y, 1 - reward(T, 1-x, 1-y), reward(T, 1-x, 1-y), i+1) # I'm adding 'position'"
   ]
  },
  {
   "cell_type": "code",
   "execution_count": 12,
   "metadata": {},
   "outputs": [
    {
     "name": "stdout",
     "output_type": "stream",
     "text": [
      "R0 0.11 0.60 0.80 0.20 1\n",
      "R1 0.18 0.57 0.72 0.28 2\n",
      "R2 0.29 0.41 0.62 0.38 3\n",
      "R3 0.15 0.44 0.75 0.25 4\n",
      "R4 0.11 0.55 0.79 0.21 5\n",
      "R5 0.19 0.50 0.71 0.29 6\n",
      "R6 0.17 0.44 0.73 0.27 7\n",
      "R7 0.28 0.54 0.63 0.37 8\n",
      "R8 0.16 0.47 0.74 0.26 9\n",
      "R9 0.15 0.56 0.75 0.25 10\n"
     ]
    }
   ],
   "source": [
    "# note: values are stored with full precision, rounding is done only on visualization (with :.2f)\n",
    "\n",
    "for k in Robotx._registry:\n",
    "    print(f\"{k.name} {k.betax:.2f} {k.betay:.2f} {k.gamma:.2f} {k.delta:.2f} {k.position}\")"
   ]
  },
  {
   "cell_type": "code",
   "execution_count": 13,
   "metadata": {},
   "outputs": [
    {
     "name": "stdout",
     "output_type": "stream",
     "text": [
      "R0 0.20\n",
      "R1 0.28\n",
      "R2 0.38\n",
      "R3 0.25\n",
      "R4 0.21\n",
      "R5 0.29\n",
      "R6 0.27\n",
      "R7 0.37\n",
      "R8 0.26\n",
      "R9 0.25\n"
     ]
    }
   ],
   "source": [
    "for k in Robotx._registry:\n",
    "    print(f\"{k.name} {k.delta:.2f}\")"
   ]
  },
  {
   "cell_type": "code",
   "execution_count": 14,
   "metadata": {},
   "outputs": [
    {
     "data": {
      "image/png": "[encoded data removed]",
      "text/plain": [
       "<Figure size 432x288 with 1 Axes>"
      ]
     },
     "metadata": {
      "needs_background": "light"
     },
     "output_type": "display_data"
    }
   ],
   "source": [
    "def plot_scatterplot():\n",
    "    for i in  Robotx._registry:\n",
    "        plt.scatter(i.betax, i.betay, s = 400, marker = 'o', color = 'black')\n",
    "        \n",
    "    plt.scatter(T.x, T.y, s = 400, marker = '*', color = 'turquoise')\n",
    "    plt.scatter(O.x, O.y, s = 400, marker = 'p', color = 'red')\n",
    "\n",
    "    plt.axis([0, 1, 0, 1])\n",
    "\n",
    "    plt.show() \n",
    "\n",
    "plot_scatterplot()"
   ]
  },
  {
   "cell_type": "code",
   "execution_count": 15,
   "metadata": {},
   "outputs": [
    {
     "name": "stdout",
     "output_type": "stream",
     "text": [
      "<pydub.audio_segment.AudioSegment object at 0x7fe3b8129df0>\n",
      "<pydub.audio_segment.AudioSegment object at 0x7fe3b8129e20>\n",
      "<pydub.audio_segment.AudioSegment object at 0x7fe3b8129be0>\n",
      "<pydub.audio_segment.AudioSegment object at 0x7fe3b8129ac0>\n",
      "<pydub.audio_segment.AudioSegment object at 0x7fe3c9e52a90>\n",
      "<pydub.audio_segment.AudioSegment object at 0x7fe3c9e52820>\n",
      "<pydub.audio_segment.AudioSegment object at 0x7fe3c9e52040>\n",
      "<pydub.audio_segment.AudioSegment object at 0x7fe3c9e525b0>\n",
      "<pydub.audio_segment.AudioSegment object at 0x7fe3c9e52e80>\n",
      "<pydub.audio_segment.AudioSegment object at 0x7fe3c9e52850>\n",
      "<pydub.audio_segment.AudioSegment object at 0x7fe3c9e528e0>\n",
      "1\n",
      "2\n",
      "3\n",
      "4\n",
      "5\n",
      "6\n",
      "7\n",
      "8\n",
      "9\n",
      "10\n",
      "<pydub.audio_segment.AudioSegment object at 0x7fe3b8129e20>\n",
      "<pydub.audio_segment.AudioSegment object at 0x7fe3b8129be0>\n",
      "<pydub.audio_segment.AudioSegment object at 0x7fe3b8129ac0>\n",
      "<pydub.audio_segment.AudioSegment object at 0x7fe3c9e52a90>\n",
      "<pydub.audio_segment.AudioSegment object at 0x7fe3c9e52820>\n",
      "<pydub.audio_segment.AudioSegment object at 0x7fe3c9e52040>\n",
      "<pydub.audio_segment.AudioSegment object at 0x7fe3c9e525b0>\n",
      "<pydub.audio_segment.AudioSegment object at 0x7fe3c9e52e80>\n",
      "<pydub.audio_segment.AudioSegment object at 0x7fe3c9e52850>\n",
      "<pydub.audio_segment.AudioSegment object at 0x7fe3c9e528e0>\n"
     ]
    }
   ],
   "source": [
    "# initialization of sound parameters\n",
    "\n",
    "\n",
    "# we need 'append' to create such a list!\n",
    "\n",
    "l = []\n",
    "for x in range(11):\n",
    "    value = AudioSegment.from_file(\"notes_/tC.mp3\")\n",
    "    l.append(value)\n",
    "for i in range(11):\n",
    "    print(l[i])\n",
    "    \n",
    "for k in Robotx._registry:\n",
    "    print(k.position)\n",
    "    \n",
    "for k in Robotx._registry:\n",
    "    print(l[k.position])"
   ]
  },
  {
   "cell_type": "code",
   "execution_count": 16,
   "metadata": {},
   "outputs": [
    {
     "name": "stdout",
     "output_type": "stream",
     "text": [
      "<pydub.audio_segment.AudioSegment object at 0x7fe3980288e0>\n",
      "<pydub.audio_segment.AudioSegment object at 0x7fe3980283d0>\n",
      "<pydub.audio_segment.AudioSegment object at 0x7fe3980281c0>\n",
      "<pydub.audio_segment.AudioSegment object at 0x7fe398028880>\n",
      "<pydub.audio_segment.AudioSegment object at 0x7fe398028250>\n",
      "<pydub.audio_segment.AudioSegment object at 0x7fe3da60fbb0>\n",
      "<pydub.audio_segment.AudioSegment object at 0x7fe3da60f1f0>\n",
      "<pydub.audio_segment.AudioSegment object at 0x7fe3da60f490>\n",
      "<pydub.audio_segment.AudioSegment object at 0x7fe3da60f040>\n",
      "<pydub.audio_segment.AudioSegment object at 0x7fe3da60f370>\n",
      "<pydub.audio_segment.AudioSegment object at 0x7fe3da60f4c0>\n",
      "tC#\n",
      "tD\n",
      "tA#\n",
      "tB\n",
      "tC#\n",
      "tD\n",
      "tA#\n",
      "tD\n",
      "tB\n",
      "tC#\n",
      "<pydub.audio_segment.AudioSegment object at 0x7fe3980283d0>\n",
      "<pydub.audio_segment.AudioSegment object at 0x7fe3980281c0>\n",
      "<pydub.audio_segment.AudioSegment object at 0x7fe398028880>\n",
      "<pydub.audio_segment.AudioSegment object at 0x7fe398028250>\n",
      "<pydub.audio_segment.AudioSegment object at 0x7fe3da60fbb0>\n",
      "<pydub.audio_segment.AudioSegment object at 0x7fe3da60f1f0>\n",
      "<pydub.audio_segment.AudioSegment object at 0x7fe3da60f490>\n",
      "<pydub.audio_segment.AudioSegment object at 0x7fe3da60f040>\n",
      "<pydub.audio_segment.AudioSegment object at 0x7fe3da60f370>\n",
      "<pydub.audio_segment.AudioSegment object at 0x7fe3da60f4c0>\n",
      "<pydub.audio_segment.AudioSegment object at 0x7fe3da5fdfd0>\n",
      "<pydub.audio_segment.AudioSegment object at 0x7fe3da5fde80>\n",
      "<pydub.audio_segment.AudioSegment object at 0x7fe3da5fdf10>\n",
      "<pydub.audio_segment.AudioSegment object at 0x7fe3da5fdd90>\n",
      "<pydub.audio_segment.AudioSegment object at 0x7fe3da5fdd00>\n",
      "<pydub.audio_segment.AudioSegment object at 0x7fe3da5fdee0>\n",
      "<pydub.audio_segment.AudioSegment object at 0x7fe3da5fdd30>\n",
      "<pydub.audio_segment.AudioSegment object at 0x7fe3da60fc10>\n",
      "<pydub.audio_segment.AudioSegment object at 0x7fe3da60f460>\n",
      "<pydub.audio_segment.AudioSegment object at 0x7fe3da5fdeb0>\n",
      "<pydub.audio_segment.AudioSegment object at 0x7fe3da5fdb80>\n",
      "Could not import the PyAudio C module '_portaudio'.\n"
     ]
    },
    {
     "name": "stderr",
     "output_type": "stream",
     "text": [
      "avplay version 12.3, Copyright (c) 2003-2018 the Libav developers\n",
      "  built on Nov  2 2021 03:53:01 with Apple clang version 13.0.0 (clang-1300.0.29.3)\n",
      "Failed to set value '-hide_banner' for option 'autoexit'\n"
     ]
    }
   ],
   "source": [
    "# audio block #1\n",
    "\n",
    "# audio 1\n",
    "\n",
    "# we can define \"audio\" as an attribute... no, better not.\n",
    "\n",
    "audio = []\n",
    "\n",
    "for x in range(11): # it should be between 1 and 11 \n",
    "    valuex = AudioSegment.from_file(\"notes_/tC.mp3\")\n",
    "    audio.append(valuex)\n",
    "for i in range(11):\n",
    "    print(audio[i]) # at this stage, they are supposed to all give tC.mp3\n",
    "\n",
    "for i in Robotx._registry:\n",
    "    if (i.betax == 0):\n",
    "        if (i.betay == 0.5):\n",
    "            valuex = AudioSegment.from_file(\"notes_/tC.mp3\") # i.audio\n",
    "            audio.append(valuex)\n",
    "            print(\"tC\")\n",
    "    if (i.betax > 0 and i.betax <= 0.17):\n",
    "        if (i.betay < 0.5):\n",
    "            valuex = AudioSegment.from_file(\"notes_/tB.mp3\")\n",
    "            audio.append(valuex)\n",
    "            print(\"tB\")\n",
    "        if (i.betay >= 0.5):\n",
    "            valuex = AudioSegment.from_file(\"notes_/tC#.mp3\")\n",
    "            audio.append(valuex)\n",
    "            print(\"tC#\")\n",
    "    if (i.betax > 0.17 and i.betax <= 0.3):\n",
    "        if (i.betay < 0.5): # if (R1.betay >= 0.17 and R1.betay < 0.3):\n",
    "            valuex = AudioSegment.from_file(\"notes_/tA#.mp3\")\n",
    "            audio.append(valuex)\n",
    "            print(\"tA#\")\n",
    "        if (i.betay >= 0.5):\n",
    "            valuex = AudioSegment.from_file(\"notes_/tD.mp3\")\n",
    "            audio.append(valuex)\n",
    "            print(\"tD\")\n",
    "    if (i.betax > 0.3 and i.betax <= 0.5):\n",
    "        if (i.betay < 0.5): # (R1.betay == 1):\n",
    "            valuex = AudioSegment.from_file(\"notes_/tD#.mp3\")\n",
    "            audio.append(valuex)\n",
    "            print(\"tD#\")\n",
    "        if (i.betay >= 0.5):\n",
    "            valuex = AudioSegment.from_file(\"notes_/tA.mp3\")\n",
    "            audio.append(valuex)\n",
    "            print(\"tA\")\n",
    "    if (i.betax > 0.5 and i.betax <= 0.64):\n",
    "        if (i.betay < 0.5):\n",
    "            valuex = AudioSegment.from_file(\"notes_/tE.mp3\")\n",
    "            audio.append(valuex)\n",
    "            print(\"tE\")\n",
    "        if (i.betay >= 0.5):\n",
    "            valuex = AudioSegment.from_file(\"notes_/tG#.mp3\")\n",
    "            audio.append(valuex)\n",
    "            print(\"tG#\")\n",
    "    if (i.betax > 0.64 and i.betax <= 0.84):\n",
    "        if (i.betay < 0.5):\n",
    "            valuex = AudioSegment.from_file(\"notes_/tF.mp3\")\n",
    "            audio.append(valuex)\n",
    "            print(\"tF\")\n",
    "        if (i.betay >= 0.5):\n",
    "            valuex = AudioSegment.from_file(\"notes_/tG.mp3\")\n",
    "            audio.append(valuex)\n",
    "            print(\"tG\")\n",
    "    if (i.betax > 0.84 and i.betax <= 1):\n",
    "        #if (R1.betay == 0.5):\n",
    "        valuex = AudioSegment.from_file(\"notes_/tF#.mp3\")\n",
    "        audio.append(valuex)\n",
    "        print(\"tF#\")\n",
    "        \n",
    "        \n",
    "        \n",
    "for i in Robotx._registry:\n",
    "    print(audio[i.position]) # at this stage, they are supposed to all give tC.mp3\n",
    "    \n",
    "\n",
    "    \n",
    "\n",
    "mix = []\n",
    "\n",
    "for s in range(11): # it should be between 1 and 11 \n",
    "    #values = (audio[s].overlay(audio[s+1])).overlay(audio[s+3])\n",
    "    \n",
    "    # is there a more synthetic way to write this??\n",
    "    values = audio[s].overlay(audio[s+1])\n",
    "    values2 = values.overlay(audio[s+2])\n",
    "    values3 = values2.overlay(audio[s+3])\n",
    "    values4 = values3.overlay(audio[s+4])\n",
    "    values5 = values4.overlay(audio[s+5])\n",
    "    values6 = values5.overlay(audio[s+6])\n",
    "    values7 = values6.overlay(audio[s+7])\n",
    "    values8 = values7.overlay(audio[s+8])\n",
    "    values9 = values8.overlay(audio[s+9])\n",
    "    mix.append(values9)\n",
    "    print(mix[s])\n",
    "\n",
    "mix[10].export(\"notes_/10_robot_sound/mixed_time_1.mp3\", format='mp3') # export mixed  audio file\n",
    "play(mix[10]) \n"
   ]
  },
  {
   "cell_type": "code",
   "execution_count": 17,
   "metadata": {},
   "outputs": [
    {
     "name": "stdout",
     "output_type": "stream",
     "text": [
      "R0 0.20 achtung!\n",
      "R1 0.28 achtung!\n",
      "R2 0.38 achtung!\n",
      "R3 0.25 achtung!\n",
      "R4 0.21 achtung!\n",
      "R5 0.29 achtung!\n",
      "R6 0.27 achtung!\n",
      "R7 0.37 achtung!\n",
      "R8 0.26 achtung!\n",
      "R9 0.25 achtung!\n"
     ]
    }
   ],
   "source": [
    "for r in Robotx._registry:\n",
    "    if (r.delta < 0.5):\n",
    "        print(f\"{r.name} {r.delta:.2f} achtung!\") # and start from this point to build the reshuffle section"
   ]
  },
  {
   "cell_type": "code",
   "execution_count": 18,
   "metadata": {},
   "outputs": [],
   "source": [
    "# Reshuffling ----------------------------------------------------------------------------"
   ]
  },
  {
   "cell_type": "code",
   "execution_count": 19,
   "metadata": {},
   "outputs": [
    {
     "name": "stdout",
     "output_type": "stream",
     "text": [
      "Do all the robots have a reward lower than 0.8? : True\n"
     ]
    }
   ],
   "source": [
    "# I'm adding this one as the only non-quantum thing:\n",
    "\n",
    "result = all(i.delta < 0.8 for i in Robotx._registry)\n",
    "  \n",
    "# Printing result\n",
    "print(\"Do all the robots have a reward lower than 0.8? : \" + str(result))\n",
    "\n",
    "# if True: reshuffle positions\n",
    "# if False: do nothing\n",
    "\n",
    "if result == True:\n",
    "    flag = True\n",
    "    while flag:\n",
    "        flag = False\n",
    "        for i in Robotx._registry:\n",
    "            i.alphax = np.random.uniform(0,0.9)\n",
    "            i.betax = 1 - i.alphax\n",
    "            i.alphay = np.random.uniform(0,0.9)\n",
    "            i.betay = 1 - i.alphay\n",
    "            if (i.betax - O.x <= 0.2 and i.betay - O.y <= 0.2 <= 0.2):\n",
    "                flag = True"
   ]
  },
  {
   "cell_type": "code",
   "execution_count": 20,
   "metadata": {},
   "outputs": [
    {
     "name": "stdout",
     "output_type": "stream",
     "text": [
      "R0 0.55 0.74 0.80 0.20 1\n",
      "R1 0.29 0.48 0.72 0.28 2\n",
      "R2 0.96 0.59 0.62 0.38 3\n",
      "R3 0.18 0.89 0.75 0.25 4\n",
      "R4 0.37 0.96 0.79 0.21 5\n",
      "R5 0.74 0.65 0.71 0.29 6\n",
      "R6 0.32 0.99 0.73 0.27 7\n",
      "R7 0.92 0.97 0.63 0.37 8\n",
      "R8 0.32 0.57 0.74 0.26 9\n",
      "R9 0.38 0.66 0.75 0.25 10\n"
     ]
    }
   ],
   "source": [
    "for k in Robotx._registry:\n",
    "    print(f\"{k.name} {k.betax:.2f} {k.betay:.2f} {k.gamma:.2f} {k.position}\")"
   ]
  },
  {
   "cell_type": "code",
   "execution_count": 22,
   "metadata": {},
   "outputs": [
    {
     "name": "stdout",
     "output_type": "stream",
     "text": [
      "R0 0.58\n",
      "R1 0.39\n",
      "R2 0.89\n",
      "R3 0.18\n",
      "R4 0.30\n",
      "R5 0.78\n",
      "R6 0.24\n",
      "R7 0.53\n",
      "R8 0.41\n",
      "R9 0.45\n"
     ]
    }
   ],
   "source": [
    "for i in  Robotx._registry: # recalculate the rewards\n",
    "    i.delta = reward(T, i.betax, i.betay)\n",
    "    i.gamma = 1 - i.delta\n",
    "    print(f\"{i.name} {i.delta:.2f}\")"
   ]
  },
  {
   "cell_type": "code",
   "execution_count": 23,
   "metadata": {},
   "outputs": [
    {
     "data": {
      "image/png": "[encoded data removed]",
      "text/plain": [
       "<Figure size 432x288 with 1 Axes>"
      ]
     },
     "metadata": {
      "needs_background": "light"
     },
     "output_type": "display_data"
    }
   ],
   "source": [
    "plot_scatterplot()"
   ]
  },
  {
   "cell_type": "code",
   "execution_count": 24,
   "metadata": {},
   "outputs": [
    {
     "name": "stdout",
     "output_type": "stream",
     "text": [
      "<pydub.audio_segment.AudioSegment object at 0x7fe3b8129490>\n",
      "<pydub.audio_segment.AudioSegment object at 0x7fe3c9e52880>\n",
      "<pydub.audio_segment.AudioSegment object at 0x7fe3c9e52610>\n",
      "<pydub.audio_segment.AudioSegment object at 0x7fe3c9e52790>\n",
      "<pydub.audio_segment.AudioSegment object at 0x7fe3c9e52b80>\n",
      "<pydub.audio_segment.AudioSegment object at 0x7fe3c9e52af0>\n",
      "<pydub.audio_segment.AudioSegment object at 0x7fe3c9e52520>\n",
      "<pydub.audio_segment.AudioSegment object at 0x7fe3c9e52c70>\n",
      "<pydub.audio_segment.AudioSegment object at 0x7fe3c9e520d0>\n",
      "<pydub.audio_segment.AudioSegment object at 0x7fe3da60d190>\n",
      "<pydub.audio_segment.AudioSegment object at 0x7fe3da60d730>\n",
      "tG#\n",
      "tA#\n",
      "tF#\n",
      "tD\n",
      "tA\n",
      "tG\n",
      "tA\n",
      "tF#\n",
      "tA\n",
      "tA\n",
      "<pydub.audio_segment.AudioSegment object at 0x7fe3c9e52880>\n",
      "<pydub.audio_segment.AudioSegment object at 0x7fe3c9e52610>\n",
      "<pydub.audio_segment.AudioSegment object at 0x7fe3c9e52790>\n",
      "<pydub.audio_segment.AudioSegment object at 0x7fe3c9e52b80>\n",
      "<pydub.audio_segment.AudioSegment object at 0x7fe3c9e52af0>\n",
      "<pydub.audio_segment.AudioSegment object at 0x7fe3c9e52520>\n",
      "<pydub.audio_segment.AudioSegment object at 0x7fe3c9e52c70>\n",
      "<pydub.audio_segment.AudioSegment object at 0x7fe3c9e520d0>\n",
      "<pydub.audio_segment.AudioSegment object at 0x7fe3da60d190>\n",
      "<pydub.audio_segment.AudioSegment object at 0x7fe3da60d730>\n",
      "<pydub.audio_segment.AudioSegment object at 0x7fe3da60d250>\n",
      "<pydub.audio_segment.AudioSegment object at 0x7fe3c9e1fe20>\n",
      "<pydub.audio_segment.AudioSegment object at 0x7fe3da60dd00>\n",
      "<pydub.audio_segment.AudioSegment object at 0x7fe3da60d6a0>\n",
      "<pydub.audio_segment.AudioSegment object at 0x7fe3da60dd60>\n",
      "<pydub.audio_segment.AudioSegment object at 0x7fe3da60d340>\n",
      "<pydub.audio_segment.AudioSegment object at 0x7fe3da60d3a0>\n",
      "<pydub.audio_segment.AudioSegment object at 0x7fe3c9e523a0>\n",
      "<pydub.audio_segment.AudioSegment object at 0x7fe3da60d220>\n",
      "<pydub.audio_segment.AudioSegment object at 0x7fe3da60d3d0>\n",
      "<pydub.audio_segment.AudioSegment object at 0x7fe3da60dfd0>\n",
      "Could not import the PyAudio C module '_portaudio'.\n"
     ]
    },
    {
     "name": "stderr",
     "output_type": "stream",
     "text": [
      "avplay version 12.3, Copyright (c) 2003-2018 the Libav developers\n",
      "  built on Nov  2 2021 03:53:01 with Apple clang version 13.0.0 (clang-1300.0.29.3)\n",
      "Failed to set value '-hide_banner' for option 'autoexit'\n"
     ]
    }
   ],
   "source": [
    "# audio block #2\n",
    "\n",
    "\n",
    "# audio 2\n",
    "\n",
    "audio = []\n",
    "\n",
    "for x in range(11): # it should be between 1 and 11 \n",
    "    valuex = AudioSegment.from_file(\"notes_/tC.mp3\")\n",
    "    audio.append(valuex)\n",
    "for i in range(11):\n",
    "    print(audio[i]) # at this stage, they are supposed to all give tC.mp3\n",
    "\n",
    "for i in Robotx._registry:\n",
    "    if (i.betax == 0):\n",
    "        if (i.betay == 0.5):\n",
    "            valuex = AudioSegment.from_file(\"notes_/tC.mp3\") # i.audio\n",
    "            audio.append(valuex)\n",
    "            print(\"tC\")\n",
    "    if (i.betax > 0 and i.betax <= 0.17):\n",
    "        if (i.betay < 0.5):\n",
    "            valuex = AudioSegment.from_file(\"notes_/tB.mp3\")\n",
    "            audio.append(valuex)\n",
    "            print(\"tB\")\n",
    "        if (i.betay >= 0.5):\n",
    "            valuex = AudioSegment.from_file(\"notes_/tC#.mp3\")\n",
    "            audio.append(valuex)\n",
    "            print(\"tC#\")\n",
    "    if (i.betax > 0.17 and i.betax <= 0.3):\n",
    "        if (i.betay < 0.5): # if (R1.betay >= 0.17 and R1.betay < 0.3):\n",
    "            valuex = AudioSegment.from_file(\"notes_/tA#.mp3\")\n",
    "            audio.append(valuex)\n",
    "            print(\"tA#\")\n",
    "        if (i.betay >= 0.5):\n",
    "            valuex = AudioSegment.from_file(\"notes_/tD.mp3\")\n",
    "            audio.append(valuex)\n",
    "            print(\"tD\")\n",
    "    if (i.betax > 0.3 and i.betax <= 0.5):\n",
    "        if (i.betay < 0.5): # (R1.betay == 1):\n",
    "            valuex = AudioSegment.from_file(\"notes_/tD#.mp3\")\n",
    "            audio.append(valuex)\n",
    "            print(\"tD#\")\n",
    "        if (i.betay >= 0.5):\n",
    "            valuex = AudioSegment.from_file(\"notes_/tA.mp3\")\n",
    "            audio.append(valuex)\n",
    "            print(\"tA\")\n",
    "    if (i.betax > 0.5 and i.betax <= 0.64):\n",
    "        if (i.betay < 0.5):\n",
    "            valuex = AudioSegment.from_file(\"notes_/tE.mp3\")\n",
    "            audio.append(valuex)\n",
    "            print(\"tE\")\n",
    "        if (i.betay >= 0.5):\n",
    "            valuex = AudioSegment.from_file(\"notes_/tG#.mp3\")\n",
    "            audio.append(valuex)\n",
    "            print(\"tG#\")\n",
    "    if (i.betax > 0.64 and i.betax <= 0.84):\n",
    "        if (i.betay < 0.5):\n",
    "            valuex = AudioSegment.from_file(\"notes_/tF.mp3\")\n",
    "            audio.append(valuex)\n",
    "            print(\"tF\")\n",
    "        if (i.betay >= 0.5):\n",
    "            valuex = AudioSegment.from_file(\"notes_/tG.mp3\")\n",
    "            audio.append(valuex)\n",
    "            print(\"tG\")\n",
    "    if (i.betax > 0.84 and i.betax <= 1):\n",
    "        #if (R1.betay == 0.5):\n",
    "        valuex = AudioSegment.from_file(\"notes_/tF#.mp3\")\n",
    "        audio.append(valuex)\n",
    "        print(\"tF#\")\n",
    "        \n",
    "        \n",
    "        \n",
    "for i in Robotx._registry:\n",
    "    print(audio[i.position]) # at this stage, they are supposed to all give tC.mp3\n",
    "    \n",
    "\n",
    "    \n",
    "\n",
    "mix = []\n",
    "\n",
    "for s in range(11): # it should be between 1 and 11 \n",
    "    #values = (audio[s].overlay(audio[s+1])).overlay(audio[s+3])\n",
    "    \n",
    "    # is there a more synthetic way to write this??\n",
    "    values = audio[s].overlay(audio[s+1])\n",
    "    values2 = values.overlay(audio[s+2])\n",
    "    values3 = values2.overlay(audio[s+3])\n",
    "    values4 = values3.overlay(audio[s+4])\n",
    "    values5 = values4.overlay(audio[s+5])\n",
    "    values6 = values5.overlay(audio[s+6])\n",
    "    values7 = values6.overlay(audio[s+7])\n",
    "    values8 = values7.overlay(audio[s+8])\n",
    "    values9 = values8.overlay(audio[s+9])\n",
    "    mix.append(values9)\n",
    "    print(mix[s])\n",
    "\n",
    "mix[10].export(\"notes_/10_robot_sound/mixed_time_2.mp3\", format='mp3') # export mixed  audio file\n",
    "play(mix[10]) \n",
    "\n",
    "# I'm trying to use the same code, but saving the file as another one."
   ]
  },
  {
   "cell_type": "code",
   "execution_count": 25,
   "metadata": {},
   "outputs": [],
   "source": [
    "# Quantum circuit construction ------------------------------------------------------------------"
   ]
  },
  {
   "cell_type": "code",
   "execution_count": 26,
   "metadata": {},
   "outputs": [],
   "source": [
    "q = QuantumRegister(5, 'q') # qubits # changed to 9, formerly 15\n",
    "m2 = ClassicalRegister(1, 'c1') # classical bits (separated is better)\n",
    "m3 = ClassicalRegister(1, 'c2')\n",
    "m4 = ClassicalRegister(1, 'c3')\n",
    "\n",
    "qc3 = QuantumCircuit(q, m2, m3, m4) # to reach the target\n",
    "qc4 = QuantumCircuit(q, m2, m3, m4) # to get back to the nest"
   ]
  },
  {
   "cell_type": "code",
   "execution_count": 27,
   "metadata": {},
   "outputs": [],
   "source": [
    "# Which robot should enter the gate? -----------------------------------------------------------"
   ]
  },
  {
   "cell_type": "code",
   "execution_count": 28,
   "metadata": {},
   "outputs": [],
   "source": [
    "def print_formatted_vector(*args):\n",
    "    for vector in args:\n",
    "        print(\"[\" + \"\".join(f\"{val:.2f} \" for val in vector).strip() + \"]\")"
   ]
  },
  {
   "cell_type": "code",
   "execution_count": 29,
   "metadata": {},
   "outputs": [
    {
     "name": "stdout",
     "output_type": "stream",
     "text": [
      "Closest robot to the target: R2 0.96 0.59 0.89\n",
      "[0.04 0.96]\n",
      "[0.41 0.59]\n",
      "[0.11 0.89]\n",
      "[0.04 1.00]\n",
      "[0.57 0.83]\n",
      "[0.12 0.99]\n"
     ]
    }
   ],
   "source": [
    "# in case of ties on delta score, the max() function outputs the first maximum item it processes \n",
    "closest_robot = max(Robotx._registry, key=attrgetter('delta'))\n",
    "print(f\"Closest robot to the target: {closest_robot.name} {closest_robot.betax:.2f} {closest_robot.betay:.2f} {closest_robot.delta:.2f}\")\n",
    "\n",
    "# and then it enters the gate\n",
    "vector0 = [closest_robot.alphax, closest_robot.betax]\n",
    "vector1 = [closest_robot.alphay, closest_robot.betay]\n",
    "vector3 = [closest_robot.gamma, closest_robot.delta]\n",
    "\n",
    "normalized_v0 = vector0/np.linalg.norm(vector0)\n",
    "normalized_v1 = vector1/np.linalg.norm(vector1)\n",
    "normalized_v3 = vector3/np.linalg.norm(vector3)\n",
    "\n",
    "print_formatted_vector(vector0, vector1, vector3)\n",
    "print_formatted_vector(normalized_v0, normalized_v1, normalized_v3)"
   ]
  },
  {
   "cell_type": "code",
   "execution_count": 30,
   "metadata": {},
   "outputs": [],
   "source": [
    "# Setting up |q_0> ------------------------------------------------------------------------------"
   ]
  },
  {
   "cell_type": "code",
   "execution_count": 31,
   "metadata": {},
   "outputs": [
    {
     "data": {
      "text/plain": [
       "<qiskit.circuit.instructionset.InstructionSet at 0x7fe3da5a4280>"
      ]
     },
     "execution_count": 31,
     "metadata": {},
     "output_type": "execute_result"
    }
   ],
   "source": [
    "# direct initialization with amplitudes vector\n",
    "qc3.initialize(normalized_v0, q[0])\n",
    "qc3.initialize(normalized_v1, q[1])\n",
    "qc3.initialize(normalized_v3, q[2])"
   ]
  },
  {
   "cell_type": "code",
   "execution_count": 32,
   "metadata": {},
   "outputs": [
    {
     "name": "stdout",
     "output_type": "stream",
     "text": [
      "      ┌──────────────────────────────┐ ░                                    »\n",
      " q_0: ┤ Initialize(0.040299,0.99919) ├─░───■────■─────────■─────────────────»\n",
      "      ├─────────────────────────────┬┘ ░   │    │         │                 »\n",
      " q_1: ┤ Initialize(0.56508,0.82503) ├──░───■────■─────────┼────■────────────»\n",
      "      ├─────────────────────────────┤  ░   │    │         │    │  ┌───┐     »\n",
      " q_2: ┤ Initialize(0.12484,0.99218) ├──░───┼────┼─────────■────■──┤ X ├──■──»\n",
      "      └─────────────────────────────┘  ░ ┌─┴─┐  │       ┌─┴─┐  │  └───┘┌─┴─┐»\n",
      " q_3: ─────────────────────────────────░─┤ X ├──┼───|0>─┤ X ├──┼───────┤ H ├»\n",
      "                                       ░ └───┘┌─┴─┐     └───┘┌─┴─┐     └───┘»\n",
      " q_4: ─────────────────────────────────░──────┤ X ├─|0>──────┤ X ├──────────»\n",
      "                                       ░      └───┘          └───┘          »\n",
      "c1: 1/══════════════════════════════════════════════════════════════════════»\n",
      "                                                                            »\n",
      "c2: 1/══════════════════════════════════════════════════════════════════════»\n",
      "                                                                            »\n",
      "c3: 1/══════════════════════════════════════════════════════════════════════»\n",
      "                                                                            »\n",
      "«                 ░          \n",
      "« q_0: ───────────░──────────\n",
      "«                 ░          \n",
      "« q_1: ───────────░──────────\n",
      "«           ┌───┐ ░ ┌─┐      \n",
      "« q_2: ──■──┤ X ├─░─┤M├──────\n",
      "«        │  └───┘ ░ └╥┘┌─┐   \n",
      "« q_3: ──┼────────░──╫─┤M├───\n",
      "«      ┌─┴─┐      ░  ║ └╥┘┌─┐\n",
      "« q_4: ┤ H ├──────░──╫──╫─┤M├\n",
      "«      └───┘      ░  ║  ║ └╥┘\n",
      "«c1: 1/══════════════╩══╬══╬═\n",
      "«                    0  ║  ║ \n",
      "«c2: 1/═════════════════╩══╬═\n",
      "«                       0  ║ \n",
      "«c3: 1/════════════════════╩═\n",
      "«                          0 \n"
     ]
    }
   ],
   "source": [
    "# this is the core code, and it is unchanged across time\n",
    "\n",
    "qc3.barrier(q)\n",
    "qc3.ccx(q[0],q[1],q[3])\n",
    "qc3.ccx(q[0],q[1],q[4])\n",
    "\n",
    "qc3.reset(q[3])\n",
    "qc3.reset(q[4])\n",
    "\n",
    "qc3.ccx(q[0],q[2],q[3]) \n",
    "qc3.ccx(q[1],q[2],q[4])\n",
    "\n",
    "qc3.x(q[2])\n",
    "\n",
    "qc3.ch(q[2],q[3])\n",
    "qc3.ch(q[2],q[4])\n",
    "\n",
    "qc3.x(q[2])\n",
    "\n",
    "qc3.barrier(q)\n",
    "\n",
    "# perform measurements and store them in classical bits\n",
    "\n",
    "qc3.measure(q[2],m2[0])\n",
    "qc3.measure(q[3],m3[0])\n",
    "qc3.measure(q[4],m4[0])\n",
    "\n",
    "# visualization of the ciruit\n",
    "\n",
    "# qc3.draw(fold=-1, output=\"mpl\")\n",
    "# plt.show();\n",
    "\n",
    "print(qc3)"
   ]
  },
  {
   "cell_type": "code",
   "execution_count": 33,
   "metadata": {},
   "outputs": [
    {
     "name": "stdout",
     "output_type": "stream",
     "text": [
      "counts:  {'1 0 0': 4, '1 1 0': 6, '1 0 1': 2, '0 1 0': 4, '0 0 0': 3, '0 1 1': 282, '1 1 1': 723}\n"
     ]
    },
    {
     "data": {
      "image/png": "[encoded data removed]",
      "text/plain": [
       "<Figure size 504x360 with 1 Axes>"
      ]
     },
     "execution_count": 33,
     "metadata": {},
     "output_type": "execute_result"
    }
   ],
   "source": [
    "aer_sim = Aer.get_backend(\"aer_simulator\")\n",
    "transpiled_qc = transpile(qc3, aer_sim)\n",
    "result = aer_sim.run(transpiled_qc).result()\n",
    "\n",
    "counts = result.get_counts()\n",
    "print(\"counts: \", counts)\n",
    "\n",
    "plot_histogram(result.get_counts())"
   ]
  },
  {
   "cell_type": "code",
   "execution_count": 34,
   "metadata": {},
   "outputs": [],
   "source": [
    "def eval_outcome(most_prob_dict, n_outcome):\n",
    "    mapped_weights0 = list(map(lambda res: int(res[n_outcome*2])*most_prob_dict[res], most_prob_dict))\n",
    "    return sum(mapped_weights0)/sum(most_prob_dict.values())"
   ]
  },
  {
   "cell_type": "code",
   "execution_count": 35,
   "metadata": {},
   "outputs": [
    {
     "name": "stdout",
     "output_type": "stream",
     "text": [
      "4 most probable states: {'1 1 1': 723, '0 1 1': 282, '1 1 0': 6, '1 0 0': 4}\n",
      "outcome0: 0.72\n",
      "outcome1: 1.00\n"
     ]
    }
   ],
   "source": [
    "num_most_prob_states = 4\n",
    "\n",
    "# https://docs.python.org/3/library/heapq.html: \n",
    "#\n",
    "# heapq.nlargest(n, iterable, key=None) returns a list with the n largest element of iterable\n",
    "#\n",
    "most_prob_dict = dict(heapq.nlargest(num_most_prob_states, counts.items(), key=itemgetter(1)))\n",
    "print(f\"{num_most_prob_states} most probable states: {most_prob_dict}\")\n",
    "\n",
    "outcome0, outcome1 = eval_outcome(most_prob_dict, 0), eval_outcome(most_prob_dict, 1)\n",
    "\n",
    "print(f\"outcome0: {outcome0:.2f}\\noutcome1: {outcome1:.2f}\")\n"
   ]
  },
  {
   "cell_type": "code",
   "execution_count": 36,
   "metadata": {},
   "outputs": [],
   "source": [
    "# Setting new positions after the gate ---------------------------------------------------------------"
   ]
  },
  {
   "cell_type": "code",
   "execution_count": 37,
   "metadata": {},
   "outputs": [
    {
     "name": "stdout",
     "output_type": "stream",
     "text": [
      "R0 0.55 0.74\n",
      "R1 0.29 0.48\n",
      "R2 0.96 0.59\n",
      "R3 0.18 0.89\n",
      "R4 0.37 0.96\n",
      "R5 0.74 0.65\n",
      "R6 0.32 0.99\n",
      "R7 0.92 0.97\n",
      "R8 0.32 0.57\n",
      "R9 0.38 0.66\n"
     ]
    }
   ],
   "source": [
    "for i in Robotx._registry:\n",
    "    print(f\"{i.name} {i.betax:.2f} {i.betay:.2f}\")\n",
    "    if (i.delta != closest_robot.delta or all(i.delta == j.delta for j in Robotx._registry)): # excluding the robot that entered the gate\n",
    "        # CHANGE: but taking into account the case where all robots have the same reward!!!\n",
    "        # for z\n",
    "        #i.betaz = outcome0\n",
    "        # the lower this value, the closer the robot to the 0, the higher alphaz\n",
    "        #i.alphaz = round(1 - i.betaz, 3)\n",
    "        # for y\n",
    "        i.betay = outcome0 # changed this\n",
    "        i.alphay = 1 - i.betay\n",
    "        # for x\n",
    "        i.betax = outcome1 # changed this\n",
    "        i.alphax = 1 - i.betax"
   ]
  },
  {
   "cell_type": "code",
   "execution_count": 39,
   "metadata": {},
   "outputs": [
    {
     "name": "stdout",
     "output_type": "stream",
     "text": [
      "R0 1.00 0.72 0.42 0.58 1\n",
      "R1 1.00 0.72 0.61 0.39 2\n",
      "R2 0.96 0.59 0.11 0.89 3\n",
      "R3 1.00 0.72 0.82 0.18 4\n",
      "R4 1.00 0.72 0.70 0.30 5\n",
      "R5 1.00 0.72 0.22 0.78 6\n",
      "R6 1.00 0.72 0.76 0.24 7\n",
      "R7 1.00 0.72 0.47 0.53 8\n",
      "R8 1.00 0.72 0.59 0.41 9\n",
      "R9 1.00 0.72 0.55 0.45 10\n"
     ]
    }
   ],
   "source": [
    "for k in Robotx._registry:\n",
    "    print(f\"{k.name} {k.betax:.2f} {k.betay:.2f} {k.gamma:.2f} {k.position}\")"
   ]
  },
  {
   "cell_type": "code",
   "execution_count": 40,
   "metadata": {},
   "outputs": [
    {
     "name": "stdout",
     "output_type": "stream",
     "text": [
      "before the gate: R0 0.58\n",
      "before the gate: R1 0.39\n",
      "before the gate: R2 0.89\n",
      "before the gate: R3 0.18\n",
      "before the gate: R4 0.30\n",
      "before the gate: R5 0.78\n",
      "before the gate: R6 0.24\n",
      "before the gate: R7 0.53\n",
      "before the gate: R8 0.41\n",
      "before the gate: R9 0.45\n"
     ]
    }
   ],
   "source": [
    "# former rewards \n",
    "for i in  Robotx._registry:\n",
    "    print(f\"before the gate: {i.name} {i.delta:.2f}\")"
   ]
  },
  {
   "cell_type": "code",
   "execution_count": 41,
   "metadata": {},
   "outputs": [
    {
     "name": "stdout",
     "output_type": "stream",
     "text": [
      "after the gate: R0 0.76\n",
      "after the gate: R1 0.76\n",
      "after the gate: R2 0.89\n",
      "after the gate: R3 0.76\n",
      "after the gate: R4 0.76\n",
      "after the gate: R5 0.76\n",
      "after the gate: R6 0.76\n",
      "after the gate: R7 0.76\n",
      "after the gate: R8 0.76\n",
      "after the gate: R9 0.76\n"
     ]
    }
   ],
   "source": [
    "# new rewards\n",
    "for i in  Robotx._registry: # recalculate the rewards\n",
    "    i.delta = reward(T, i.betax, i.betay)\n",
    "    i.gamma = 1 - i.delta\n",
    "    print(f\"after the gate: {i.name} {i.delta:.2f}\")"
   ]
  },
  {
   "cell_type": "code",
   "execution_count": 42,
   "metadata": {},
   "outputs": [
    {
     "name": "stdout",
     "output_type": "stream",
     "text": [
      "<pydub.audio_segment.AudioSegment object at 0x7fe3daf91ac0>\n",
      "<pydub.audio_segment.AudioSegment object at 0x7fe3c9e52580>\n",
      "<pydub.audio_segment.AudioSegment object at 0x7fe3c9e52610>\n",
      "<pydub.audio_segment.AudioSegment object at 0x7fe3c9e26c10>\n",
      "<pydub.audio_segment.AudioSegment object at 0x7fe3c9e52c10>\n",
      "<pydub.audio_segment.AudioSegment object at 0x7fe3c9e52130>\n",
      "<pydub.audio_segment.AudioSegment object at 0x7fe3c9e52520>\n",
      "<pydub.audio_segment.AudioSegment object at 0x7fe3c9e52a30>\n",
      "<pydub.audio_segment.AudioSegment object at 0x7fe3c9e52b50>\n",
      "<pydub.audio_segment.AudioSegment object at 0x7fe3c9e527c0>\n",
      "<pydub.audio_segment.AudioSegment object at 0x7fe3c9e52640>\n",
      "tF#\n",
      "tF#\n",
      "tF#\n",
      "tF#\n",
      "tF#\n",
      "tF#\n",
      "tF#\n",
      "tF#\n",
      "tF#\n",
      "tF#\n",
      "<pydub.audio_segment.AudioSegment object at 0x7fe3c9e52580>\n",
      "<pydub.audio_segment.AudioSegment object at 0x7fe3c9e52610>\n",
      "<pydub.audio_segment.AudioSegment object at 0x7fe3c9e26c10>\n",
      "<pydub.audio_segment.AudioSegment object at 0x7fe3c9e52c10>\n",
      "<pydub.audio_segment.AudioSegment object at 0x7fe3c9e52130>\n",
      "<pydub.audio_segment.AudioSegment object at 0x7fe3c9e52520>\n",
      "<pydub.audio_segment.AudioSegment object at 0x7fe3c9e52a30>\n",
      "<pydub.audio_segment.AudioSegment object at 0x7fe3c9e52b50>\n",
      "<pydub.audio_segment.AudioSegment object at 0x7fe3c9e527c0>\n",
      "<pydub.audio_segment.AudioSegment object at 0x7fe3c9e52640>\n",
      "<pydub.audio_segment.AudioSegment object at 0x7fe3c9e52d30>\n",
      "<pydub.audio_segment.AudioSegment object at 0x7fe3c9e52370>\n",
      "<pydub.audio_segment.AudioSegment object at 0x7fe3c9e52c70>\n",
      "<pydub.audio_segment.AudioSegment object at 0x7fe3c9e52880>\n",
      "<pydub.audio_segment.AudioSegment object at 0x7fe3c9e52ca0>\n",
      "<pydub.audio_segment.AudioSegment object at 0x7fe3c9e52b80>\n",
      "<pydub.audio_segment.AudioSegment object at 0x7fe3dafa7700>\n",
      "<pydub.audio_segment.AudioSegment object at 0x7fe3b8129490>\n",
      "<pydub.audio_segment.AudioSegment object at 0x7fe3dafa7220>\n",
      "<pydub.audio_segment.AudioSegment object at 0x7fe3c9e52af0>\n",
      "<pydub.audio_segment.AudioSegment object at 0x7fe388012880>\n",
      "Could not import the PyAudio C module '_portaudio'.\n"
     ]
    },
    {
     "name": "stderr",
     "output_type": "stream",
     "text": [
      "avplay version 12.3, Copyright (c) 2003-2018 the Libav developers\n",
      "  built on Nov  2 2021 03:53:01 with Apple clang version 13.0.0 (clang-1300.0.29.3)\n",
      "Failed to set value '-hide_banner' for option 'autoexit'\n"
     ]
    }
   ],
   "source": [
    "# audio block #3\n",
    "\n",
    "# audio 3\n",
    "\n",
    "# we can define \"audio\" as an attribute... no, better not.\n",
    "\n",
    "audio = []\n",
    "\n",
    "for x in range(11): # it should be between 1 and 11 \n",
    "    valuex = AudioSegment.from_file(\"notes_/tC.mp3\")\n",
    "    audio.append(valuex)\n",
    "for i in range(11):\n",
    "    print(audio[i]) # at this stage, they are supposed to all give tC.mp3\n",
    "\n",
    "for i in Robotx._registry:\n",
    "    if (i.betax == 0):\n",
    "        if (i.betay == 0.5):\n",
    "            valuex = AudioSegment.from_file(\"notes_/tC.mp3\") # i.audio\n",
    "            audio.append(valuex)\n",
    "            print(\"tC\")\n",
    "    if (i.betax > 0 and i.betax <= 0.17):\n",
    "        if (i.betay < 0.5):\n",
    "            valuex = AudioSegment.from_file(\"notes_/tB.mp3\")\n",
    "            audio.append(valuex)\n",
    "            print(\"tB\")\n",
    "        if (i.betay >= 0.5):\n",
    "            valuex = AudioSegment.from_file(\"notes_/tC#.mp3\")\n",
    "            audio.append(valuex)\n",
    "            print(\"tC#\")\n",
    "    if (i.betax > 0.17 and i.betax <= 0.3):\n",
    "        if (i.betay < 0.5): # if (R1.betay >= 0.17 and R1.betay < 0.3):\n",
    "            valuex = AudioSegment.from_file(\"notes_/tA#.mp3\")\n",
    "            audio.append(valuex)\n",
    "            print(\"tA#\")\n",
    "        if (i.betay >= 0.5):\n",
    "            valuex = AudioSegment.from_file(\"notes_/tD.mp3\")\n",
    "            audio.append(valuex)\n",
    "            print(\"tD\")\n",
    "    if (i.betax > 0.3 and i.betax <= 0.5):\n",
    "        if (i.betay < 0.5): # (R1.betay == 1):\n",
    "            valuex = AudioSegment.from_file(\"notes_/tD#.mp3\")\n",
    "            audio.append(valuex)\n",
    "            print(\"tD#\")\n",
    "        if (i.betay >= 0.5):\n",
    "            valuex = AudioSegment.from_file(\"notes_/tA.mp3\")\n",
    "            audio.append(valuex)\n",
    "            print(\"tA\")\n",
    "    if (i.betax > 0.5 and i.betax <= 0.64):\n",
    "        if (i.betay < 0.5):\n",
    "            valuex = AudioSegment.from_file(\"notes_/tE.mp3\")\n",
    "            audio.append(valuex)\n",
    "            print(\"tE\")\n",
    "        if (i.betay >= 0.5):\n",
    "            valuex = AudioSegment.from_file(\"notes_/tG#.mp3\")\n",
    "            audio.append(valuex)\n",
    "            print(\"tG#\")\n",
    "    if (i.betax > 0.64 and i.betax <= 0.84):\n",
    "        if (i.betay < 0.5):\n",
    "            valuex = AudioSegment.from_file(\"notes_/tF.mp3\")\n",
    "            audio.append(valuex)\n",
    "            print(\"tF\")\n",
    "        if (i.betay >= 0.5):\n",
    "            valuex = AudioSegment.from_file(\"notes_/tG.mp3\")\n",
    "            audio.append(valuex)\n",
    "            print(\"tG\")\n",
    "    if (i.betax > 0.84 and i.betax <= 1):\n",
    "        #if (R1.betay == 0.5):\n",
    "        valuex = AudioSegment.from_file(\"notes_/tF#.mp3\")\n",
    "        audio.append(valuex)\n",
    "        print(\"tF#\")\n",
    "        \n",
    "        \n",
    "        \n",
    "for i in Robotx._registry:\n",
    "    print(audio[i.position]) # at this stage, they are supposed to all give tC.mp3\n",
    "    \n",
    "\n",
    "    \n",
    "\n",
    "mix = []\n",
    "\n",
    "for s in range(11): # it should be between 1 and 11 \n",
    "    #values = (audio[s].overlay(audio[s+1])).overlay(audio[s+3])\n",
    "    \n",
    "    # is there a more synthetic way to write this??\n",
    "    values = audio[s].overlay(audio[s+1])\n",
    "    values2 = values.overlay(audio[s+2])\n",
    "    values3 = values2.overlay(audio[s+3])\n",
    "    values4 = values3.overlay(audio[s+4])\n",
    "    values5 = values4.overlay(audio[s+5])\n",
    "    values6 = values5.overlay(audio[s+6])\n",
    "    values7 = values6.overlay(audio[s+7])\n",
    "    values8 = values7.overlay(audio[s+8])\n",
    "    values9 = values8.overlay(audio[s+9])\n",
    "    mix.append(values9)\n",
    "    print(mix[s])\n",
    "\n",
    "mix[10].export(\"notes_/10_robot_sound/mixed_time_3.mp3\", format='mp3') # export mixed  audio file\n",
    "play(mix[10]) \n"
   ]
  },
  {
   "cell_type": "code",
   "execution_count": 43,
   "metadata": {},
   "outputs": [],
   "source": [
    "# Reach the most successful robot -------------------------------------------------------"
   ]
  },
  {
   "cell_type": "code",
   "execution_count": 44,
   "metadata": {},
   "outputs": [
    {
     "name": "stdout",
     "output_type": "stream",
     "text": [
      "max_attr_.delta: 0.89\n",
      "Most successful robot: R2 0.96 0.59 0.89\n",
      "R0 0.89\n",
      "R1 0.90\n",
      "R2 0.89\n",
      "R3 0.90\n",
      "R4 0.90\n",
      "R5 0.89\n",
      "R6 0.90\n",
      "R7 0.90\n",
      "R8 0.89\n",
      "R9 0.89\n"
     ]
    }
   ],
   "source": [
    "# not for now\n",
    "\n",
    "for i in  Robotx._registry: # recalculate the rewards\n",
    "    i.delta = reward(T, i.betax, i.betay)\n",
    "    i.gamma = (1 - i.delta, 3)\n",
    "    \n",
    "max_attr_ = max(Robotx._registry, key=attrgetter('delta'))\n",
    "print(f\"max_attr_.delta: {max_attr_.delta:.2f}\")\n",
    "\n",
    "for i in Robotx._registry:\n",
    "    if (i.delta == max_attr_.delta):\n",
    "        print(f\"Most successful robot: {i.name} {i.betax:.2f} {i.betay:.2f} {i.delta:.2f}\") # and then it enters the gate\n",
    "\n",
    "for j in Robotx._registry:\n",
    "    # to get other robots following it:\n",
    "    if (j != max_attr_): # changed here\n",
    "        flag = True\n",
    "        while flag:\n",
    "            flag = False\n",
    "            j.alphax = max_attr_.alphax + np.random.uniform(0,0.01)\n",
    "            j.betax = 1 - j.alphax\n",
    "            j.alphay = max_attr_.alphay + np.random.uniform(0,0.01)\n",
    "            j.betay = 1 - j.alphay\n",
    "            if (j.betax - O.x <= 0.2 and j.betay - O.y <= 0.2):\n",
    "                flag = True\n",
    "                   \n",
    "# recalculate the rewards here:\n",
    "\n",
    "for k in  Robotx._registry: # recalculate the rewards\n",
    "    k.delta = reward(T, k.betax, k.betay)\n",
    "    k.gamma = 1 - k.delta\n",
    "    print(f\"{k.name} {k.delta:.2f}\")"
   ]
  },
  {
   "cell_type": "code",
   "execution_count": 45,
   "metadata": {},
   "outputs": [
    {
     "name": "stdout",
     "output_type": "stream",
     "text": [
      "R0 0.89\n",
      "R1 0.90\n",
      "R2 0.89\n",
      "R3 0.90\n",
      "R4 0.90\n",
      "R5 0.89\n",
      "R6 0.90\n",
      "R7 0.90\n",
      "R8 0.89\n",
      "R9 0.89\n"
     ]
    }
   ],
   "source": [
    "for i in  Robotx._registry: # recalculate the rewards\n",
    "    i.delta = reward(T, i.betax, i.betay)\n",
    "    i.gamma = 1 - i.delta\n",
    "    print(f\"{i.name} {i.delta:.2f}\")"
   ]
  },
  {
   "cell_type": "code",
   "execution_count": 47,
   "metadata": {},
   "outputs": [
    {
     "name": "stdout",
     "output_type": "stream",
     "text": [
      "R0 0.96 0.59 0.11 0.89 1\n",
      "R1 0.96 0.58 0.10 0.90 2\n",
      "R2 0.96 0.59 0.11 0.89 3\n",
      "R3 0.96 0.58 0.10 0.90 4\n",
      "R4 0.95 0.59 0.10 0.90 5\n",
      "R5 0.95 0.59 0.11 0.89 6\n",
      "R6 0.95 0.58 0.10 0.90 7\n",
      "R7 0.96 0.59 0.10 0.90 8\n",
      "R8 0.95 0.59 0.11 0.89 9\n",
      "R9 0.96 0.59 0.11 0.89 10\n"
     ]
    }
   ],
   "source": [
    "for k in Robotx._registry:\n",
    "    print(f\"{k.name} {k.betax:.2f} {k.betay:.2f} {k.gamma:.2f} {k.delta:.2f} {k.position}\")"
   ]
  },
  {
   "cell_type": "code",
   "execution_count": 48,
   "metadata": {},
   "outputs": [
    {
     "data": {
      "image/png": "[encoded data removed]",
      "text/plain": [
       "<Figure size 432x288 with 1 Axes>"
      ]
     },
     "metadata": {
      "needs_background": "light"
     },
     "output_type": "display_data"
    }
   ],
   "source": [
    "plot_scatterplot()"
   ]
  },
  {
   "cell_type": "code",
   "execution_count": 49,
   "metadata": {},
   "outputs": [
    {
     "name": "stdout",
     "output_type": "stream",
     "text": [
      "<pydub.audio_segment.AudioSegment object at 0x7fe3cc088100>\n",
      "<pydub.audio_segment.AudioSegment object at 0x7fe3b8110580>\n",
      "<pydub.audio_segment.AudioSegment object at 0x7fe3da591430>\n",
      "<pydub.audio_segment.AudioSegment object at 0x7fe3dc5fc280>\n",
      "<pydub.audio_segment.AudioSegment object at 0x7fe3db0469d0>\n",
      "<pydub.audio_segment.AudioSegment object at 0x7fe3dc636820>\n",
      "<pydub.audio_segment.AudioSegment object at 0x7fe3dc57c790>\n",
      "<pydub.audio_segment.AudioSegment object at 0x7fe3dc6363a0>\n",
      "<pydub.audio_segment.AudioSegment object at 0x7fe3dc636cd0>\n",
      "<pydub.audio_segment.AudioSegment object at 0x7fe3dafa0a60>\n",
      "<pydub.audio_segment.AudioSegment object at 0x7fe3dafa0c70>\n",
      "tF#\n",
      "tF#\n",
      "tF#\n",
      "tF#\n",
      "tF#\n",
      "tF#\n",
      "tF#\n",
      "tF#\n",
      "tF#\n",
      "tF#\n",
      "<pydub.audio_segment.AudioSegment object at 0x7fe3b8110580>\n",
      "<pydub.audio_segment.AudioSegment object at 0x7fe3da591430>\n",
      "<pydub.audio_segment.AudioSegment object at 0x7fe3dc5fc280>\n",
      "<pydub.audio_segment.AudioSegment object at 0x7fe3db0469d0>\n",
      "<pydub.audio_segment.AudioSegment object at 0x7fe3dc636820>\n",
      "<pydub.audio_segment.AudioSegment object at 0x7fe3dc57c790>\n",
      "<pydub.audio_segment.AudioSegment object at 0x7fe3dc6363a0>\n",
      "<pydub.audio_segment.AudioSegment object at 0x7fe3dc636cd0>\n",
      "<pydub.audio_segment.AudioSegment object at 0x7fe3dafa0a60>\n",
      "<pydub.audio_segment.AudioSegment object at 0x7fe3dafa0c70>\n",
      "<pydub.audio_segment.AudioSegment object at 0x7fe3da6069d0>\n",
      "<pydub.audio_segment.AudioSegment object at 0x7fe3dafa0fa0>\n",
      "<pydub.audio_segment.AudioSegment object at 0x7fe3daf38af0>\n",
      "<pydub.audio_segment.AudioSegment object at 0x7fe3daf38940>\n",
      "<pydub.audio_segment.AudioSegment object at 0x7fe3daf91ac0>\n",
      "<pydub.audio_segment.AudioSegment object at 0x7fe3cc088370>\n",
      "<pydub.audio_segment.AudioSegment object at 0x7fe3a80a40d0>\n",
      "<pydub.audio_segment.AudioSegment object at 0x7fe3dafa7ca0>\n",
      "<pydub.audio_segment.AudioSegment object at 0x7fe3dafa0250>\n",
      "<pydub.audio_segment.AudioSegment object at 0x7fe3daf38b20>\n",
      "<pydub.audio_segment.AudioSegment object at 0x7fe3da606880>\n",
      "Could not import the PyAudio C module '_portaudio'.\n"
     ]
    },
    {
     "name": "stderr",
     "output_type": "stream",
     "text": [
      "avplay version 12.3, Copyright (c) 2003-2018 the Libav developers\n",
      "  built on Nov  2 2021 03:53:01 with Apple clang version 13.0.0 (clang-1300.0.29.3)\n",
      "Failed to set value '-hide_banner' for option 'autoexit'\n"
     ]
    }
   ],
   "source": [
    "# audio block #4\n",
    "\n",
    "# audio 4\n",
    "\n",
    "# we can define \"audio\" as an attribute... no, better not.\n",
    "\n",
    "audio = []\n",
    "\n",
    "for x in range(11): # it should be between 1 and 11 \n",
    "    valuex = AudioSegment.from_file(\"notes_/tC.mp3\")\n",
    "    audio.append(valuex)\n",
    "for i in range(11):\n",
    "    print(audio[i]) # at this stage, they are supposed to all give tC.mp3\n",
    "\n",
    "for i in Robotx._registry:\n",
    "    if (i.betax == 0):\n",
    "        if (i.betay == 0.5):\n",
    "            valuex = AudioSegment.from_file(\"notes_/tC.mp3\") # i.audio\n",
    "            audio.append(valuex)\n",
    "            print(\"tC\")\n",
    "    if (i.betax > 0 and i.betax <= 0.17):\n",
    "        if (i.betay < 0.5):\n",
    "            valuex = AudioSegment.from_file(\"notes_/tB.mp3\")\n",
    "            audio.append(valuex)\n",
    "            print(\"tB\")\n",
    "        if (i.betay >= 0.5):\n",
    "            valuex = AudioSegment.from_file(\"notes_/tC#.mp3\")\n",
    "            audio.append(valuex)\n",
    "            print(\"tC#\")\n",
    "    if (i.betax > 0.17 and i.betax <= 0.3):\n",
    "        if (i.betay < 0.5): # if (R1.betay >= 0.17 and R1.betay < 0.3):\n",
    "            valuex = AudioSegment.from_file(\"notes_/tA#.mp3\")\n",
    "            audio.append(valuex)\n",
    "            print(\"tA#\")\n",
    "        if (i.betay >= 0.5):\n",
    "            valuex = AudioSegment.from_file(\"notes_/tD.mp3\")\n",
    "            audio.append(valuex)\n",
    "            print(\"tD\")\n",
    "    if (i.betax > 0.3 and i.betax <= 0.5):\n",
    "        if (i.betay < 0.5): # (R1.betay == 1):\n",
    "            valuex = AudioSegment.from_file(\"notes_/tD#.mp3\")\n",
    "            audio.append(valuex)\n",
    "            print(\"tD#\")\n",
    "        if (i.betay >= 0.5):\n",
    "            valuex = AudioSegment.from_file(\"notes_/tA.mp3\")\n",
    "            audio.append(valuex)\n",
    "            print(\"tA\")\n",
    "    if (i.betax > 0.5 and i.betax <= 0.64):\n",
    "        if (i.betay < 0.5):\n",
    "            valuex = AudioSegment.from_file(\"notes_/tE.mp3\")\n",
    "            audio.append(valuex)\n",
    "            print(\"tE\")\n",
    "        if (i.betay >= 0.5):\n",
    "            valuex = AudioSegment.from_file(\"notes_/tG#.mp3\")\n",
    "            audio.append(valuex)\n",
    "            print(\"tG#\")\n",
    "    if (i.betax > 0.64 and i.betax <= 0.84):\n",
    "        if (i.betay < 0.5):\n",
    "            valuex = AudioSegment.from_file(\"notes_/tF.mp3\")\n",
    "            audio.append(valuex)\n",
    "            print(\"tF\")\n",
    "        if (i.betay >= 0.5):\n",
    "            valuex = AudioSegment.from_file(\"notes_/tG.mp3\")\n",
    "            audio.append(valuex)\n",
    "            print(\"tG\")\n",
    "    if (i.betax > 0.84 and i.betax <= 1):\n",
    "        #if (R1.betay == 0.5):\n",
    "        valuex = AudioSegment.from_file(\"notes_/tF#.mp3\")\n",
    "        audio.append(valuex)\n",
    "        print(\"tF#\")\n",
    "        \n",
    "        \n",
    "        \n",
    "for i in Robotx._registry:\n",
    "    print(audio[i.position]) # at this stage, they are supposed to all give tC.mp3\n",
    "    \n",
    "\n",
    "    \n",
    "\n",
    "mix = []\n",
    "\n",
    "for s in range(11): # it should be between 1 and 11 \n",
    "    #values = (audio[s].overlay(audio[s+1])).overlay(audio[s+3])\n",
    "    \n",
    "    # is there a more synthetic way to write this??\n",
    "    values = audio[s].overlay(audio[s+1])\n",
    "    values2 = values.overlay(audio[s+2])\n",
    "    values3 = values2.overlay(audio[s+3])\n",
    "    values4 = values3.overlay(audio[s+4])\n",
    "    values5 = values4.overlay(audio[s+5])\n",
    "    values6 = values5.overlay(audio[s+6])\n",
    "    values7 = values6.overlay(audio[s+7])\n",
    "    values8 = values7.overlay(audio[s+8])\n",
    "    values9 = values8.overlay(audio[s+9])\n",
    "    mix.append(values9)\n",
    "    print(mix[s])\n",
    "\n",
    "mix[10].export(\"notes_/10_robot_sound/mixed_time_4.mp3\", format='mp3') # export mixed  audio file\n",
    "play(mix[10]) \n"
   ]
  },
  {
   "cell_type": "code",
   "execution_count": null,
   "metadata": {},
   "outputs": [],
   "source": []
  },
  {
   "cell_type": "code",
   "execution_count": null,
   "metadata": {},
   "outputs": [],
   "source": []
  }
 ],
 "metadata": {
  "interpreter": {
   "hash": "2db524e06e9f5f4ffedc911c917cb75e12dbc923643829bf417064a77eb14d37"
  },
  "kernelspec": {
   "display_name": "Python 3 (ipykernel)",
   "language": "python",
   "name": "python3"
  },
  "language_info": {
   "codemirror_mode": {
    "name": "ipython",
    "version": 3
   },
   "file_extension": ".py",
   "mimetype": "text/x-python",
   "name": "python",
   "nbconvert_exporter": "python",
   "pygments_lexer": "ipython3",
   "version": "3.9.7"
  }
 },
 "nbformat": 4,
 "nbformat_minor": 2
}
